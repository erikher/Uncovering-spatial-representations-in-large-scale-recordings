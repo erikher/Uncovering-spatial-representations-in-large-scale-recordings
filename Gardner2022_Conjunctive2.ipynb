{
 "cells": [
  {
   "cell_type": "markdown",
   "id": "17c14df9",
   "metadata": {},
   "source": [
    "Define functions"
   ]
  },
  {
   "cell_type": "code",
   "execution_count": null,
   "id": "1b20911f",
   "metadata": {},
   "outputs": [],
   "source": [
    "import sys\n",
    "dir1 = '/Users/erihe/OneDrive - NTNU/'\n",
    "if not dir1 in sys.path: sys.path.append(dir1)\n",
    "from utils_new import *\n",
    "    "
   ]
  },
  {
   "cell_type": "markdown",
   "id": "e0cee248",
   "metadata": {},
   "source": [
    "Load data "
   ]
  },
  {
   "cell_type": "code",
   "execution_count": null,
   "id": "7b9ce154",
   "metadata": {},
   "outputs": [],
   "source": [
    "f = np.load('is_conjunctive_all.npz', allow_pickle = True)\n",
    "isall = {}\n",
    "for k in list(f.keys()):\n",
    "    print(k, np.bincount(f[k]))\n",
    "    isall[k] = f[k]\n",
    "f.close()"
   ]
  },
  {
   "cell_type": "markdown",
   "id": "ce820e0b",
   "metadata": {},
   "source": [
    "Muas etc retyped in Matlab for easy python interpretation "
   ]
  },
  {
   "cell_type": "code",
   "execution_count": null,
   "id": "d472c580",
   "metadata": {},
   "outputs": [],
   "source": [
    "glob.glob('/Users/erihe/OneDrive - NTNU/Prosjekt/Toroidal_topology_grid_cell_data/*')"
   ]
  },
  {
   "cell_type": "code",
   "execution_count": null,
   "id": "3a3a2555",
   "metadata": {},
   "outputs": [],
   "source": [
    "f = np.load('/Users/erihe/OneDrive - NTNU/Prosjekt/Toroidal_topology_grid_cell_data/rat_s_grid_modules_1.npz', \n",
    "            allow_pickle = True)\n",
    "spikes = {}\n",
    "it = 0\n",
    "for k in ['spikes_mod1',]:# 'spikes_mod2', 'spikes_mod3']:\n",
    "    spktemp = f[k][()]\n",
    "    for kk in spktemp:\n",
    "        spikes[it] = spktemp[kk]\n",
    "        it += 1\n",
    "t = f['t']\n",
    "x = f['x']\n",
    "y = f['y']\n",
    "hd_azimuth = f['azimuth']\n",
    "f.close()"
   ]
  },
  {
   "cell_type": "code",
   "execution_count": null,
   "id": "5aaec6d3",
   "metadata": {},
   "outputs": [],
   "source": [
    "#3,  open_field_1,       start=9939, end=12363   \n",
    "#4,  foraging_maze_1,    start=13670, end=14847   \n",
    "#5,  sleep_box_1,        start=14942, end=23133   \n",
    "#6,  foraging_maze_1,    start=23186, end=24936   \n"
   ]
  },
  {
   "cell_type": "code",
   "execution_count": null,
   "id": "cb800667",
   "metadata": {},
   "outputs": [],
   "source": [
    "min_of_1, max_of_1 = 9939, 12363\n",
    "min_w_1, max_w_1 = 13670, 14847 \n",
    "min_w_2, max_w_2 = 14942, 23133 \n",
    "min_w_3, max_w_3 = 23186, 24936 \n"
   ]
  },
  {
   "cell_type": "code",
   "execution_count": null,
   "id": "d98837f9",
   "metadata": {},
   "outputs": [],
   "source": [
    "num_neurons = len(spikes)\n",
    "meanRate_of = np.zeros((num_neurons))\n",
    "for i in range(num_neurons):\n",
    "    spk = spikes[i].copy()\n",
    "    meanRate_of[i] = np.sum((spk>min_of_1) & (spk<max_of_1))\n",
    "meanRate_of/=(max_of_1-min_of_1)\n"
   ]
  },
  {
   "cell_type": "markdown",
   "id": "b019abf9",
   "metadata": {},
   "source": [
    "Compute firing rates for open field session and cross correlations, \n",
    " \n",
    " \n",
    "NOTE: Could have memory issues, change either session duration, time interval (dt_orig) or time resolution of the bin depiction (res)."
   ]
  },
  {
   "cell_type": "code",
   "execution_count": null,
   "id": "8b0fb139",
   "metadata": {},
   "outputs": [],
   "source": [
    "hd_azimuth[np.isnan(hd_azimuth)] = 0"
   ]
  },
  {
   "cell_type": "code",
   "execution_count": null,
   "id": "fd164ff7",
   "metadata": {},
   "outputs": [],
   "source": [
    "tt, xx, yy, speed, hd_of = get_pos(x, y, t, hd_azimuth,\n",
    "                                   min_time = min_of_1, max_time = max_of_1, dt_orig = 0.1, res = 10000)\n",
    "\n",
    "\n",
    "tt1, xx1, yy1, speed1, hd_of1 = get_pos(x, y, t, hd_azimuth,\n",
    "                                   min_time = min_of_1, max_time = max_of_1, dt_orig = 0.01, res = 100000)\n"
   ]
  },
  {
   "cell_type": "code",
   "execution_count": null,
   "id": "c5b32612",
   "metadata": {},
   "outputs": [],
   "source": [
    "tt_w, xx_w, yy_w, speed_w, hd_w = get_pos(x, y, t, hd_azimuth,\n",
    "                                   min_time = min_w_1, max_time = max_w_1, dt_orig = 0.1, res = 10000)\n",
    "\n",
    "\n",
    "tt1_w, xx1_w, yy1_w, speed1_w, hd_w1 = get_pos(x, y, t, hd_azimuth,\n",
    "                                   min_time = min_w_1, max_time = max_w_1, dt_orig = 0.01, res = 100000)\n"
   ]
  },
  {
   "cell_type": "code",
   "execution_count": null,
   "id": "51060fb2",
   "metadata": {},
   "outputs": [],
   "source": [
    "#### 'firing_rate' is more temporally precise, but might be slower\n",
    "\n",
    "t0 = time.time()\n",
    "sspikes_of, __ = firing_rate(spikes, sigma = 1, min_time = min_of_1, max_time = max_of_1, \n",
    "                             dt_orig = 0.1, res = 100000)\n",
    "print(time.time()- t0)\n",
    "sspikes_of = np.sqrt(sspikes_of)\n",
    "t0 = time.time()\n",
    "Xcorr_of =  cross_corr_dist(sspikes_of, lencorr = 30)\n",
    "print(time.time()-t0)\n",
    "#np.savez('roger_of', sspikes = sspikes_of, Xcorr = Xcorr_of)\n",
    "#del sspikes_of"
   ]
  },
  {
   "cell_type": "code",
   "execution_count": null,
   "id": "1a1194db",
   "metadata": {},
   "outputs": [],
   "source": [
    "#### 'firing_rate' is more temporally precise, but might be slower\n",
    "\n",
    "t0 = time.time()\n",
    "sspikes_w1, __ = firing_rate(spikes, sigma = 1, min_time = min_w_1, max_time = max_w_1, \n",
    "                             dt_orig = 0.1, res = 100000)\n",
    "print(time.time()- t0)\n",
    "sspikes_w1 = np.sqrt(sspikes_w1)\n",
    "t0 = time.time()\n",
    "Xcorr_w1 =  cross_corr_dist(sspikes_w1, lencorr = 30)\n",
    "print(time.time()-t0)\n",
    "#np.savez('roger_w', sspikes = sspikes_w, Xcorr = Xcorr_w)\n",
    "#del sspikes_w"
   ]
  },
  {
   "cell_type": "code",
   "execution_count": null,
   "id": "fdbc8c5b",
   "metadata": {},
   "outputs": [],
   "source": [
    "#### 'firing_rate' is more temporally precise, but might be slower\n",
    "\n",
    "t0 = time.time()\n",
    "sspikes_w2, __ = firing_rate(spikes, sigma = 1, min_time = min_w_2, max_time = max_w_2, \n",
    "                             dt_orig = 0.1, res = 100000)\n",
    "print(time.time()- t0)\n",
    "sspikes_w2 = np.sqrt(sspikes_w2)\n",
    "t0 = time.time()\n",
    "Xcorr_w2 =  cross_corr_dist(sspikes_w2, lencorr = 30)\n",
    "print(time.time()-t0)\n",
    "#np.savez('roger_w', sspikes = sspikes_w, Xcorr = Xcorr_w)\n",
    "#del sspikes_w"
   ]
  },
  {
   "cell_type": "code",
   "execution_count": null,
   "id": "1f07ab1c",
   "metadata": {},
   "outputs": [],
   "source": [
    "#### 'firing_rate' is more temporally precise, but might be slower\n",
    "\n",
    "t0 = time.time()\n",
    "sspikes_w3, __ = firing_rate(spikes, sigma = 1, min_time = min_w_3, max_time = max_w_3, \n",
    "                             dt_orig = 0.1, res = 100000)\n",
    "print(time.time()- t0)\n",
    "sspikes_w3 = np.sqrt(sspikes_w3)\n",
    "t0 = time.time()\n",
    "Xcorr_w3 =  cross_corr_dist(sspikes_w3, lencorr = 30)\n",
    "print(time.time()-t0)\n",
    "#np.savez('roger_w', sspikes = sspikes_w, Xcorr = Xcorr_w)\n",
    "#del sspikes_w"
   ]
  },
  {
   "cell_type": "code",
   "execution_count": null,
   "id": "c0c60a07",
   "metadata": {},
   "outputs": [],
   "source": [
    "del sspikes_w1, sspikes_w2,sspikes_w3"
   ]
  },
  {
   "cell_type": "markdown",
   "id": "a1b23432",
   "metadata": {},
   "source": [
    "Save for backup"
   ]
  },
  {
   "cell_type": "code",
   "execution_count": null,
   "id": "a704e93e",
   "metadata": {},
   "outputs": [],
   "source": [
    "np.savez('shane_Xcorrs',Xcorr_of = Xcorr_of, Xcorr_w1 = Xcorr_w1 ,Xcorr_w2 = Xcorr_w2, Xcorr_w3 = Xcorr_w3 )\n"
   ]
  },
  {
   "cell_type": "code",
   "execution_count": null,
   "id": "45a48f04",
   "metadata": {},
   "outputs": [],
   "source": [
    "f = np.load('shane_Xcorrs.npz', allow_pickle = True)\n",
    "Xcorr_of = f['Xcorr_of']\n",
    "Xcorr_w1 = f['Xcorr_w1']\n",
    "Xcorr_w2 = f['Xcorr_w2']\n",
    "Xcorr_w3 = f['Xcorr_w3']\n",
    "f.close()"
   ]
  },
  {
   "cell_type": "markdown",
   "id": "e492777e",
   "metadata": {},
   "source": [
    "## Clustering"
   ]
  },
  {
   "cell_type": "code",
   "execution_count": null,
   "id": "3fc00f90",
   "metadata": {},
   "outputs": [],
   "source": [
    "d1 = np.zeros((len(spikes),len(spikes)))\n",
    "for x in [Xcorr_w1,Xcorr_w2,  Xcorr_of]:    #Xcorr_w3\n",
    "    dd1 = squareform(pdist(np.square(x), 'correlation'))\n",
    "    d1 += dd1\n",
    "infs = np.isinf(d1)\n",
    "d1[infs] = np.max(d1[~infs])*2\n",
    "d1 /= 4"
   ]
  },
  {
   "cell_type": "code",
   "execution_count": null,
   "id": "88e4ac46",
   "metadata": {},
   "outputs": [],
   "source": [
    "num_neurons = len(spikes)\n",
    "hd_info = np.zeros(num_neurons)\n",
    "for i in range(num_neurons):\n",
    "    mtot, __,  circ  = binned_statistic(hd_of, sspikes_of[:,i],\n",
    "                                              statistic = 'mean', \n",
    "                                              bins = 30)\n",
    "    mu = np.mean(sspikes_of[:,i])\n",
    "    hd_info[i] = information_score_1d(mtot, circ-1, mu)\n"
   ]
  },
  {
   "cell_type": "code",
   "execution_count": null,
   "id": "30667ddd",
   "metadata": {},
   "outputs": [],
   "source": [
    "plt.viridis()\n",
    "dvals = d1[np.triu_indices(len(d1),1)]\n",
    "thr = np.round(np.percentile(dvals,42),1)\n",
    "thr = 0.4\n",
    "print(thr)\n",
    "ind1 = get_ind(d1,thr, linkage = 'average')\n",
    "\n",
    "print(np.bincount(isall['is_conj_S1'][ind1 == np.argmax(np.bincount(ind1))]))\n",
    "print(np.bincount(isall['is_conj_S1'][ind1 == np.argmax(np.bincount(ind1))])/np.max(np.bincount(ind1)))"
   ]
  },
  {
   "cell_type": "code",
   "execution_count": null,
   "id": "f6deefeb",
   "metadata": {},
   "outputs": [],
   "source": [
    "fig, ax = plt.subplots(1,1)\n",
    "ax.scatter(meanRate_of[isall['is_conj_S1'] == 0], hd_info[isall['is_conj_S1'] == 0])\n",
    "ax.scatter(meanRate_of[isall['is_conj_S1'] != 0], hd_info[isall['is_conj_S1'] != 0])\n",
    "ax.spines[['bottom', 'left']].set_linewidth(4)\n",
    "ax.tick_params(width=4, length=10)\n",
    "ax.set_xticks([0, 3.5,7], [])\n",
    "ax.set_yticks([0, 0.5,1], [])\n",
    "ax.set_aspect(1/ax.get_data_ratio())\n",
    "ax.set_alpha(0)\n",
    "ax.patch.set_alpha(0)\n",
    "\n",
    "ax.spines[['right', 'top']].set_visible(False)"
   ]
  },
  {
   "cell_type": "code",
   "execution_count": null,
   "id": "c62b30b0",
   "metadata": {},
   "outputs": [],
   "source": [
    "iii = ind1== np.argmax(np.bincount(ind1))\n",
    "fig, ax = plt.subplots(1,1)\n",
    "ax.scatter(meanRate_of[~iii], hd_info[~iii])\n",
    "ax.scatter(meanRate_of[iii], hd_info[iii])\n",
    "ax.spines[['bottom', 'left']].set_linewidth(4)\n",
    "ax.tick_params(width=4, length=10)\n",
    "ax.set_xticks([0, 4,8], [])\n",
    "ax.set_yticks([0, 2,4], [])\n",
    "ax.set_aspect(1/ax.get_data_ratio())\n",
    "ax.set_alpha(0)\n",
    "ax.patch.set_alpha(0)\n",
    "\n",
    "ax.spines[['right', 'top']].set_visible(False)"
   ]
  },
  {
   "cell_type": "code",
   "execution_count": null,
   "id": "3d0db489",
   "metadata": {},
   "outputs": [],
   "source": [
    "np.save('conj_shane_sspikes', sspikes_of[:,mod_ind1s])"
   ]
  },
  {
   "cell_type": "code",
   "execution_count": null,
   "id": "7e86a820",
   "metadata": {},
   "outputs": [],
   "source": [
    "np.save('conj_shane_speed', speed1 )"
   ]
  },
  {
   "cell_type": "code",
   "execution_count": null,
   "id": "a0e75fdc",
   "metadata": {},
   "outputs": [],
   "source": [
    "from utils_new import *\n",
    "\n",
    "dim = 8         # number of principal components\n",
    "k = 1000          # number of neighbours for downsampling\n",
    "nbs = 1000         # number of neighbours for metric\n",
    "maxdim = 1        # dimension of homology - often just do 1 as it could be expensive (depends on number of points and neighbours)\n",
    "metric = 'cosine' # what metric to use for persistence\n",
    "pthr = 0\n",
    "dt_curr = 0.01\n",
    "time_resolution = 100000\n",
    "numrand = 100\n",
    "dgms_rand_all = {}\n",
    "#sspikes_bu = np.load('conj_shane_sspikes.npy')\n",
    "#speed1 = np.load('conj_shane_speed.npy')\n",
    "for sigma in [6,]:\n",
    "    num_times, num_neurons = np.shape(sspikes_bu)\n",
    "    for sp in [0.1]:\n",
    "        for eps in [0.8,  ]:\n",
    "            ##########    Initial preprocessing ########## \n",
    "            for nn in [5,]:\n",
    "                n_points = 2500\n",
    "                sspikes1 = np.sqrt(sspikes_bu)\n",
    "                num_times_all, num_neurons = np.shape(sspikes1)\n",
    "\n",
    "                movetimes0 = np.arange(0,num_times_all,nn)\n",
    "                movetimes0 = movetimes0[np.where((speed1[movetimes0]>sp))[0]]\n",
    "                spksum = np.sum(sspikes1,1)[movetimes0]\n",
    "                movetimes0 = movetimes0[np.where(spksum> np.percentile(spksum,pthr))[0]]\n",
    "                sspikes1 = sspikes1[movetimes0, :]\n",
    "\n",
    "                ##########    Dimension reduce ##########            \n",
    "                dim_red_spikes_move_scaled = preprocessing.scale(sspikes1,axis = 0)\n",
    "                dim_red_spikes_move_scaled, e1, e2, var_exp = pca(dim_red_spikes_move_scaled, dim = dim)\n",
    "                dim_red_spikes_move_scaled /= np.sqrt(e2[:dim])\n",
    "\n",
    "                ##########    Downsample ##########            \n",
    "                startindex = np.argmax(np.sum(np.abs(dim_red_spikes_move_scaled),1))\n",
    "                movetimes1 = radial_downsampling(dim_red_spikes_move_scaled, metric = 'euclidean', epsilon = eps, \n",
    "                    startindex = startindex)\n",
    "                indstemp  = sample_denoising(dim_red_spikes_move_scaled[movetimes1,:],  k, \n",
    "                                                   n_points, 1, 'cosine')[0]\n",
    "                indstemp = movetimes1[indstemp]\n",
    "                dim_red_spikes_move_scaled = dim_red_spikes_move_scaled[indstemp,:]\n",
    "                for n_points in [2100,]:\n",
    "\n",
    "                    indstemp = indstemp[:n_points]\n",
    "                    dim_red_spikes_move_scaled = dim_red_spikes_move_scaled[:n_points,:]\n",
    "\n",
    "                    X = squareform(pdist(dim_red_spikes_move_scaled[:,:], metric))\n",
    "\n",
    "                    ##########    Compute cohomology ##########            \n",
    "                    hom_dims = list(range(maxdim+1))\n",
    "                    VR = VietorisRipsPersistence(\n",
    "                    homology_dimensions=hom_dims,\n",
    "                    metric='precomputed',\n",
    "                    coeff=47,\n",
    "#                        max_edge_length= thresh,\n",
    "                    collapse_edges=False,  # True faster?\n",
    "                    n_jobs=None  # -1 faster?\n",
    "                    )\n",
    "                    diagrams = VR.fit_transform([X])\n",
    "                    dgms = from_giotto_to_ripser(diagrams[0])\n",
    "\n",
    "\n"
   ]
  },
  {
   "cell_type": "code",
   "execution_count": null,
   "id": "d6cade0d",
   "metadata": {},
   "outputs": [],
   "source": [
    "plt.figure()\n",
    "plot_diagrams(dgms, list(np.arange(maxdim+1)), lifetime = True)\n",
    "plt.show()\n",
    "fig = plot_barcode(dgms)\n",
    "\n"
   ]
  },
  {
   "cell_type": "code",
   "execution_count": null,
   "id": "87de8ac6",
   "metadata": {},
   "outputs": [],
   "source": [
    "dgms_all = {}\n",
    "dgms_all[0] = dgms"
   ]
  },
  {
   "cell_type": "code",
   "execution_count": null,
   "id": "99454e36",
   "metadata": {},
   "outputs": [],
   "source": [
    "np.savez('conj_shane_dgms', dgms = dgms_all)"
   ]
  },
  {
   "cell_type": "code",
   "execution_count": null,
   "id": "fed8b5d6",
   "metadata": {},
   "outputs": [],
   "source": [
    "f = np.load('conj_shane_dgms_rand.npz', allow_pickle = True)\n",
    "dgmstmp = f['dgms'][()]\n"
   ]
  },
  {
   "cell_type": "code",
   "execution_count": null,
   "id": "50f599be",
   "metadata": {},
   "outputs": [],
   "source": [
    "diagrams_roll = {}\n",
    "for i in range(100):\n",
    "    diagrams_roll[i] = dgmstmp[i]"
   ]
  },
  {
   "cell_type": "code",
   "execution_count": null,
   "id": "da5e6592",
   "metadata": {
    "scrolled": false
   },
   "outputs": [],
   "source": [
    "fig = plot_barcode(dgms, diagrams_roll = diagrams_roll, percshuf = 10)"
   ]
  },
  {
   "cell_type": "code",
   "execution_count": null,
   "id": "a3d03b2c",
   "metadata": {},
   "outputs": [],
   "source": [
    "diagrams_roll = {}\n",
    "for i in range(100):\n",
    "    f = np.load('conj_roger_dgms_rand' + str(i) + '.npz', allow_pickle = True)\n",
    "    dgmstmp = f['dgms'][()][0]\n",
    "    f.close()\n",
    "    diagrams_roll[i] = dgmstmp.copy()"
   ]
  },
  {
   "cell_type": "code",
   "execution_count": null,
   "id": "31d09e51",
   "metadata": {
    "scrolled": false
   },
   "outputs": [],
   "source": [
    "\n",
    "dim = 8         # number of principal components\n",
    "k = 1000          # number of neighbours for downsampling\n",
    "nbs = 1000         # number of neighbours for metric\n",
    "maxdim = 1        # dimension of homology - often just do 1 as it could be expensive (depends on number of points and neighbours)\n",
    "metric = 'cosine' # what metric to use for persistence\n",
    "pthr = 0\n",
    "dt_curr = 0.01\n",
    "time_resolution = 100000\n",
    "\n",
    "for sigma in [6,]:\n",
    "    sspikes_of = firing_rate(spikes, sigma = sigma, min_time = min_of_1, max_time = max_of_1, \n",
    "                              dt_orig = dt_curr, res = time_resolution)[0]\n",
    "\n",
    "    for sp in [0.1]:\n",
    "        for eps in [0.8,  ]:\n",
    "            i = np.argmax(np.bincount(ind1))\n",
    "            mod_ind1s = np.where(ind1 == i)[0]            \n",
    "            ##########    Initial preprocessing ########## \n",
    "            for nn in [5,]:\n",
    "                n_points = 2500\n",
    "                sspikes1 = np.sqrt(sspikes_of[:, mod_ind1s])\n",
    "                num_times_all, num_neurons = np.shape(sspikes1)\n",
    "                \n",
    "                movetimes0 = np.arange(0,num_times_all,nn)\n",
    "                movetimes0 = movetimes0[np.where((speed1[movetimes0]>sp))[0]]\n",
    "                spksum = np.sum(sspikes1,1)[movetimes0]\n",
    "                movetimes0 = movetimes0[np.where(spksum> np.percentile(spksum,pthr))[0]]\n",
    "                sspikes1 = sspikes1[movetimes0, :]\n",
    "\n",
    "                ##########    Dimension reduce ##########            \n",
    "                dim_red_spikes_move_scaled = preprocessing.scale(sspikes1,axis = 0)\n",
    "                dim_red_spikes_move_scaled, e1, e2, var_exp = pca(dim_red_spikes_move_scaled, dim = dim)\n",
    "                dim_red_spikes_move_scaled /= np.sqrt(e2[:dim])\n",
    "\n",
    "                fig, ax = plt.subplots(1,1)\n",
    "                ax.plot(var_exp[:15])\n",
    "                ax.set_aspect(1/ax.get_data_ratio())\n",
    "                plt.show()\n",
    "\n",
    "                ##########    Downsample ##########            \n",
    "                startindex = np.argmax(np.sum(np.abs(dim_red_spikes_move_scaled),1))\n",
    "                movetimes1 = radial_downsampling(dim_red_spikes_move_scaled, epsilon = eps, \n",
    "                    startindex = startindex)\n",
    "                indstemp  = sample_denoising(dim_red_spikes_move_scaled[movetimes1,:],  k, \n",
    "                                                   n_points, 1, 'cosine')[0]\n",
    "                indstemp = movetimes1[indstemp]\n",
    "                dim_red_spikes_move_scaled = dim_red_spikes_move_scaled[indstemp,:]\n",
    "                for n_points in [2100,]:\n",
    "                        \n",
    "                    print('sigma', sigma)\n",
    "                    print('n_points', n_points)\n",
    "                    print('eps', eps)\n",
    "                    print('nn', nn)\n",
    "                    print('sp', sp)\n",
    "                    indstemp = indstemp[:n_points]\n",
    "                    dim_red_spikes_move_scaled = dim_red_spikes_move_scaled[:n_points,:]\n",
    "\n",
    "                    X = squareform(pdist(dim_red_spikes_move_scaled[:,:], metric))\n",
    "\n",
    "                    ##########    Compute cohomology ##########            \n",
    "                    persistence, dgms = compute_persistence(X, maxdim)\n",
    "                    plt.figure()\n",
    "                    plot_diagrams(dgms, list(np.arange(maxdim+1)), lifetime = True)\n",
    "                    plt.show()\n",
    "                    fig = plot_barcode(dgms)\n",
    "\n",
    "                    ##########    Get coordinates sample ##########            \n",
    "                    print('movetimes1', len(movetimes1))\n",
    "                    npoints = len(indstemp)\n",
    "                    try:\n",
    "                        coords_ds, coords_ds_consistent = get_coords_consistent(persistence, coeff = 47, ph_classes = [0,1,2], bConsistent = True)\n",
    "                    except:\n",
    "                        print('except')\n",
    "                        print('')\n",
    "                        continue\n",
    "                    fig, ax = plt.subplots(2,4, figsize = (10,5), dpi = 120)\n",
    "                    for i in range(3):\n",
    "                        ax[0, i].plot(coords_ds[i,np.argsort(coords_ds[i,:])])\n",
    "                    ax[0, 3].scatter(*coords_ds[:2,:], s = 100)\n",
    "                    for i in range(4):\n",
    "                        ax[0, i].set_aspect(1/ax[0, i].get_data_ratio())\n",
    "\n",
    "                    for i in range(3):\n",
    "                        ax[1, i].plot(coords_ds_consistent[i,np.argsort(coords_ds_consistent[i,:])])\n",
    "                    ax[1, 3].scatter(*coords_ds_consistent[:2,:], s = 100)\n",
    "                    for i in range(4):\n",
    "                        ax[1, i].set_aspect(1/ax[1, i].get_data_ratio())\n",
    "\n",
    "\n",
    "                    ##########    Get coordinates all   ##########            \n",
    "                    coords_mod0 = get_coords_all(sspikes1, \n",
    "                                                 coords_ds_consistent,\n",
    "                                                 np.arange(len(sspikes1)),                             \n",
    "                                                 indstemp,\n",
    "                                                 dim = dim, \n",
    "                                                 bPCA = True,\n",
    "                                                 bPred = False)\n",
    "                    coords_mod0 = coords_mod0%(2*np.pi)\n",
    "                    fig, axs = plt.subplots(2,3, figsize = (10,5), dpi = 120)\n",
    "                    for c in [0,1,2]:\n",
    "                        coords_mod0tmp = 2*np.pi-coords_mod0[:,c]                        \n",
    "                        dstmp = np.arctan2(np.mean(np.sin(hd_of1[movetimes0]-coords_mod0tmp)), \n",
    "                                        np.mean(np.cos(hd_of1[movetimes0]-coords_mod0tmp)))\n",
    "                        coords_mod0tmp = (coords_mod0tmp+dstmp)%(2*np.pi)\n",
    "\n",
    "\n",
    "                        ds = np.arctan2(np.mean(np.sin(hd_of1[movetimes0]-coords_mod0[:,c])), \n",
    "                                        np.mean(np.cos(hd_of1[movetimes0]-coords_mod0[:,c])))\n",
    "                        coords_mod0[:,c] = (coords_mod0[:,c]+ds)%(2*np.pi)\n",
    "\n",
    "                        ds0 = np.mean(np.abs(np.arctan2(np.sin(hd_of1[movetimes0]-coords_mod0tmp), \n",
    "                                              np.cos(hd_of1[movetimes0]-coords_mod0tmp))))\n",
    "                        ds1 = np.mean(np.abs(np.arctan2(np.sin(hd_of1[movetimes0]-coords_mod0[:,c]), \n",
    "                                              np.cos(hd_of1[movetimes0]-coords_mod0[:,c]))))\n",
    "\n",
    "                        if ds0 < ds1:\n",
    "                            coords_mod0[:,c] = coords_mod0tmp\n",
    "                            print(ds0)\n",
    "                        else:\n",
    "                            print(ds1)                               \n",
    "\n",
    "                        print()\n",
    "                        axs[0,c].plot((coords_mod0[:1000,c]))\n",
    "                        #plt.plot(hd_of1[movetimes0][:10000])\n",
    "                        axs[0,c].plot(hd_of1[movetimes0][:1000])\n",
    "                        nans0 = ~np.isnan(coords_mod0[:,c])\n",
    "                        mtot, __, __, circ  = binned_statistic_2d(xx1[movetimes0],\n",
    "                                                                  yy1[movetimes0],\n",
    "                                                                  coords_mod0[:,c], \n",
    "                                                                  statistic = circmean, \n",
    "                                                                  bins = 50,\n",
    "                                                                  expand_binnumbers = True)\n",
    "\n",
    "                        nans = np.isnan(mtot)\n",
    "                        sintot = np.sin(mtot)\n",
    "                        costot = np.cos(mtot)\n",
    "                        sintot[nans] = np.mean(sintot[~nans])\n",
    "                        costot[nans] = np.mean(costot[~nans])\n",
    "                        sintot = gaussian_filter(sintot,1)\n",
    "                        costot = gaussian_filter(costot,1)\n",
    "                        mtot = np.cos(np.arctan2(sintot, costot))\n",
    "                        mtot = gaussian_filter(mtot,1)\n",
    "                        plt.viridis()\n",
    "                        mtot[nans] = np.nan\n",
    "                        axs[1,c].imshow(mtot)\n",
    "                        axs[1,c].axis('off')\n",
    "                        axs[1,c].set_aspect(1/axs[1,c].get_data_ratio())\n",
    "\n",
    "                    plt.show()\n"
   ]
  },
  {
   "cell_type": "code",
   "execution_count": null,
   "id": "8981b665",
   "metadata": {},
   "outputs": [],
   "source": [
    "from matplotlib import gridspec\n",
    "conj_cells = [53,39,36,13,]\n",
    "numfigs = 3\n",
    "numw = 1\n",
    "num_neurons = len(conj_cells)\n",
    "numh = int(np.ceil(num_neurons/numw))\n",
    "outer1 = gridspec.GridSpec(1, numw)\n",
    "fig = plt.figure(figsize=(np.ceil((numw*numfigs+numw-1)*1.05), np.ceil(numh*1.1)), dpi = 160)\n",
    "nw = 0\n",
    "numbins1 = 30\n",
    "#torsort = np.flip(np.argsort(hd_info))\n",
    "for nn, n in enumerate(conj_cells):\n",
    "    nnn = nn%numh\n",
    "\n",
    "    if nnn == 0:\n",
    "        outer2 = gridspec.GridSpecFromSubplotSpec(1, 1, subplot_spec = outer1[nw], wspace = .4)\n",
    "        gs2 = gridspec.GridSpecFromSubplotSpec(numh, numfigs, subplot_spec = outer2[0], \n",
    "                                               width_ratios = [1,1,1],\n",
    "                                               hspace = 0.2,wspace = .2)\n",
    "        nw += 1\n",
    "    xnum = 0\n",
    "\n",
    "    ax = plt.subplot(gs2[nnn,xnum]) \n",
    "    xnum += 1\n",
    "    mtot, __, __, circ  = binned_statistic_2d(xx1,\n",
    "                                          yy1,\n",
    "                                          sspikes_of1[:,n], \n",
    "                                          statistic = 'mean', \n",
    "                                          bins = 30,\n",
    "                                          expand_binnumbers = True)\n",
    "\n",
    "    nans = np.isnan(mtot)\n",
    "    mtot[nans] = np.mean(mtot[~nans])\n",
    "    mtot = gaussian_filter(mtot, 1)\n",
    "    plt.viridis()\n",
    "    vals = np.unique(mtot)\n",
    "    maxtot = np.sort(mtot.flatten())\n",
    "    mintot = maxtot[int(0.025*len(maxtot))]\n",
    "    maxtot = maxtot[int(0.975*len(maxtot))]\n",
    "    mtot[nans] = np.nan\n",
    "    \n",
    "    ax.imshow(mtot, origin = 'lower', extent = [0,2*np.pi,0, 2*np.pi], vmin = mintot, vmax = maxtot)\n",
    "    ax.set_xticks([])\n",
    "    ax.set_yticks([])\n",
    "\n",
    "    ax = plt.subplot(gs2[nnn,xnum], projection = 'polar')\n",
    "    \n",
    "    xnum += 1    \n",
    "    bins = np.linspace(0,2*np.pi,31)\n",
    "\n",
    "#    rec = binned_statistic(coords_mod1[:,0], sspikes_of1[:,n], statistic = 'mean', bins=bins, range=None)[0]\n",
    "#    rec[np.isnan(rec)] = 0\n",
    "#    rec /= np.max(rec)\n",
    "#    rec = gaussian_filter1d(rec, mode = 'wrap', sigma = 1)\n",
    "    \n",
    "    dec = binned_statistic(hd_of1[:], sspikes_of1[:,n], statistic = 'mean', bins=bins, range=None)[0]\n",
    "    dec[np.isnan(dec)] = 0\n",
    "    dec /= np.max(dec)\n",
    "    dec = gaussian_filter1d(dec, mode = 'wrap', sigma = 1)\n",
    "    ax.plot(bins, np.concatenate(([dec[-1]], dec)), \n",
    "            lw = 4, ls = '-', alpha = 0.9, c = [0.2,0.2,0.2], label = 'Dec OF')\n",
    "\n",
    "    ax.set_rticks([0.33, 0.66,1]) \n",
    "    ax.set_yticklabels('')\n",
    "    ax.set_xticklabels('')\n",
    "    ax.set_rlim([0,1.1])\n",
    "    "
   ]
  },
  {
   "cell_type": "code",
   "execution_count": null,
   "id": "d0600a56",
   "metadata": {},
   "outputs": [],
   "source": [
    "\n",
    "from matplotlib import gridspec\n",
    "conj_cells = [53,39,36,13,]\n",
    "numfigs = 3\n",
    "numw = 1\n",
    "num_neurons = len(conj_cells)\n",
    "numh = int(np.ceil(num_neurons/numw))\n",
    "outer1 = gridspec.GridSpec(1, numw)\n",
    "fig = plt.figure(figsize=(np.ceil((numw*numfigs+numw-1)*1.05), np.ceil(numh*1.1)), dpi = 160)\n",
    "nw = 0\n",
    "numbins1 = 30\n",
    "#torsort = np.flip(np.argsort(hd_info))\n",
    "for nn, n in enumerate(conj_cells):\n",
    "    nnn = nn%numh\n",
    "\n",
    "    if nnn == 0:\n",
    "        outer2 = gridspec.GridSpecFromSubplotSpec(1, 1, subplot_spec = outer1[nw], wspace = .4)\n",
    "        gs2 = gridspec.GridSpecFromSubplotSpec(numh, numfigs, subplot_spec = outer2[0], \n",
    "                                               width_ratios = [1,1,1],\n",
    "                                               hspace = 0.,wspace = 0.)\n",
    "        nw += 1\n",
    "    xnum = 0\n",
    "\n",
    "\n",
    "    ax = plt.subplot(gs2[nnn,xnum], projection = '3d')\n",
    "    xnum += 1\n",
    "    ax.scatter(coords_mod1[inds,0],coords_mod1[inds,1],coords_mod1[inds,2], s = 10, alpha = 0.8,\n",
    "              c = meanval_inds[n,:])\n",
    "    ax.set_xticks([0, np.pi,2*np.pi], [])\n",
    "    ax.set_yticks([0, np.pi,2*np.pi], [])\n",
    "    ax.set_zticks([0, np.pi,2*np.pi], [])\n",
    "#    ax.set_aspect('equal')\n"
   ]
  }
 ],
 "metadata": {
  "kernelspec": {
   "display_name": "Python 3 (ipykernel)",
   "language": "python",
   "name": "python3"
  },
  "language_info": {
   "codemirror_mode": {
    "name": "ipython",
    "version": 3
   },
   "file_extension": ".py",
   "mimetype": "text/x-python",
   "name": "python",
   "nbconvert_exporter": "python",
   "pygments_lexer": "ipython3",
   "version": "3.9.12"
  }
 },
 "nbformat": 4,
 "nbformat_minor": 5
}
