{
 "cells": [
  {
   "cell_type": "markdown",
   "id": "6ebec119",
   "metadata": {},
   "source": [
    "## Rat R"
   ]
  },
  {
   "cell_type": "markdown",
   "id": "17c14df9",
   "metadata": {},
   "source": [
    "Define functions"
   ]
  },
  {
   "cell_type": "code",
   "execution_count": null,
   "id": "1b20911f",
   "metadata": {},
   "outputs": [],
   "source": [
    "import sys\n",
    "dir1 = '/Users/erihe/OneDrive - NTNU/'\n",
    "if not dir1 in sys.path: sys.path.append(dir1)\n",
    "from utils_new import *\n",
    "\n",
    "\n",
    "\n",
    "\n",
    "\n",
    "def get_pos(x, y, t, hd, dt_orig = 0.01, res = 100000, min_time = -1, max_time = None):\n",
    "    dt = int(dt_orig*res)\n",
    "    if min_time<0:\n",
    "        min_time = np.floor(t[0])*res-dt\n",
    "    else:\n",
    "        min_time*=res\n",
    "    if not max_time:\n",
    "        max_time = np.ceil(t[-1])*res+dt\n",
    "    else:\n",
    "        max_time*=res\n",
    "\n",
    "    for arr in [x,y,hd]:\n",
    "        if len(arr)>0:\n",
    "            arr[np.isnan(arr)] = np.mean(arr[~np.isnan(arr)])\n",
    "#        fill_nans(arr)\n",
    "\n",
    "    tt = np.arange(np.floor(min_time), np.ceil(max_time)+1, dt)/res\n",
    "    xspline = CubicSpline(t, x)\n",
    "    xx = xspline(tt)\n",
    "    if len(y) > 0:\n",
    "        xx = gaussian_filter1d(x, 100)\n",
    "        xspline = CubicSpline(t, xx)\n",
    "        xx = xspline(tt)\n",
    "        yy = gaussian_filter1d(y, 100)\n",
    "        yspline = CubicSpline(t, yy)\n",
    "        yy = yspline(tt)\n",
    "        speed = np.sqrt(np.square(np.diff(xx)) + \n",
    "                        np.square(np.diff(yy)))\n",
    "#        speed = np.sqrt(np.square(np.diff(gaussian_filter1d(xx, 100))) + \n",
    "#                        np.square(np.diff(gaussian_filter1d(yy, 100))))\n",
    "    else:\n",
    "        yy = []\n",
    "        speed = np.square(np.diff(xx))\n",
    "    speed = np.concatenate(([speed[0]],speed))/dt_orig\n",
    "    \n",
    "    if len(hd)>0:\n",
    "        hdcosspline = CubicSpline(t, np.cos(hd))\n",
    "        hdsinspline = CubicSpline(t, np.sin(hd))\n",
    "        aa = np.arctan2(hdsinspline(tt),hdcosspline(tt))%(2*np.pi)\n",
    "    else:\n",
    "        aa = []\n",
    "    return tt, xx, yy, speed, aa    "
   ]
  },
  {
   "cell_type": "markdown",
   "id": "e0cee248",
   "metadata": {},
   "source": [
    "Load data "
   ]
  },
  {
   "cell_type": "code",
   "execution_count": null,
   "id": "15614d9f",
   "metadata": {},
   "outputs": [],
   "source": [
    "data_dir = '/Users/erihe/OneDrive - NTNU/Prosjekt/Main/'"
   ]
  },
  {
   "cell_type": "code",
   "execution_count": null,
   "id": "7b9ce154",
   "metadata": {},
   "outputs": [],
   "source": [
    "f = np.load(data_dir + 'is_conjunctive_all.npz', allow_pickle = True)\n",
    "isall = {}\n",
    "for k in list(f.keys()):\n",
    "    print(k, np.bincount(f[k]))\n",
    "    isall[k] = f[k]\n",
    "f.close()"
   ]
  },
  {
   "cell_type": "markdown",
   "id": "ce820e0b",
   "metadata": {},
   "source": [
    "Muas etc retyped in Matlab for easy python interpretation "
   ]
  },
  {
   "cell_type": "code",
   "execution_count": null,
   "id": "3a3a2555",
   "metadata": {},
   "outputs": [],
   "source": [
    "data_dir = '/Users/erihe/OneDrive - NTNU/Prosjekt/'\n",
    "f = np.load(data_dir + '/Toroidal_topology_grid_cell_data/rat_r_day1_grid_modules_1_2_3.npz', \n",
    "            allow_pickle = True)\n",
    "spikes = {}\n",
    "it = 0\n",
    "for k in ['spikes_mod1','spikes_mod2','spikes_mod3']:\n",
    "    spktemp = f[k][()]\n",
    "    for kk in spktemp:\n",
    "        spikes[it] = spktemp[kk]\n",
    "        it += 1\n",
    "t = f['t']\n",
    "x = f['x']\n",
    "y = f['y']\n",
    "hd_azimuth = f['azimuth']\n",
    "f.close()"
   ]
  },
  {
   "cell_type": "code",
   "execution_count": null,
   "id": "cb800667",
   "metadata": {},
   "outputs": [],
   "source": [
    "min_of_1, max_of_1 = 7457, 14778\n",
    "min_of_2, max_of_2 = 14890, 16045\n",
    "min_w_1, max_w_1 = 16925, 18026\n",
    "min_w_2, max_w_2 = 18183, 20704\n",
    "min_w_3, max_w_3 = 20895, 23771\n"
   ]
  },
  {
   "cell_type": "code",
   "execution_count": null,
   "id": "d98837f9",
   "metadata": {},
   "outputs": [],
   "source": [
    "num_neurons = len(spikes)\n",
    "meanRate_of = np.zeros((num_neurons))\n",
    "for i in range(num_neurons):\n",
    "    spk = spikes[i].copy()\n",
    "    meanRate_of[i] = np.sum((spk>min_of_1) & (spk<max_of_1))\n",
    "meanRate_of/=(max_of_1-min_of_1)\n"
   ]
  },
  {
   "cell_type": "markdown",
   "id": "b019abf9",
   "metadata": {},
   "source": [
    "Compute firing rates for open field session and cross correlations, \n",
    " \n",
    " \n",
    "NOTE: Could have memory issues, change either session duration, time interval (dt_orig) or time resolution of the bin depiction (res)."
   ]
  },
  {
   "cell_type": "code",
   "execution_count": null,
   "id": "51060fb2",
   "metadata": {},
   "outputs": [],
   "source": [
    "t0 = time.time()\n",
    "sspikes_of1, __ = firing_rate(spikes, sigma = 1, min_time = min_of_1, max_time = max_of_1, \n",
    "                             dt_orig = 0.1, res = 10000)\n",
    "sspikes_of1 = np.sqrt(sspikes_of1)\n",
    "print(time.time()- t0)\n",
    "\n",
    "\n",
    "t0 = time.time()\n",
    "sspikes_of2, __ = firing_rate(spikes, sigma = 1, min_time = min_of_2, max_time = max_of_2, \n",
    "                             dt_orig = 0.1, res = 10000)\n",
    "sspikes_of2 = np.sqrt(sspikes_of2)\n",
    "print(time.time()- t0)\n",
    "\n",
    "sspikes_of1 = np.concatenate((sspikes_of1,sspikes_of2),0)\n",
    "\n",
    "\n",
    "t0 = time.time()\n",
    "Xcorr_of1 =  cross_corr_dist(sspikes_of1, lencorr = 30)\n",
    "print(time.time()-t0)\n",
    "\n"
   ]
  },
  {
   "cell_type": "code",
   "execution_count": null,
   "id": "fdce4349",
   "metadata": {},
   "outputs": [],
   "source": [
    "t0 = time.time()\n",
    "sspikes_w1, __ = firing_rate(spikes, sigma = 1, min_time = min_w_1, max_time = max_w_1, \n",
    "                             dt_orig = 0.1, res = 10000)\n",
    "sspikes_w1 = np.sqrt(sspikes_w1)\n",
    "print(time.time()- t0)\n",
    "\n",
    "\n",
    "t0 = time.time()\n",
    "sspikes_w2, __ = firing_rate(spikes, sigma = 1, min_time = min_w_2, max_time = max_w_2, \n",
    "                             dt_orig = 0.1, res = 10000)\n",
    "sspikes_w2 = np.sqrt(sspikes_w2)\n",
    "print(time.time()- t0)\n",
    "sspikes_w1 = np.concatenate((sspikes_w1,sspikes_w2),0)\n",
    "\n",
    "\n",
    "t0 = time.time()\n",
    "Xcorr_w1 =  cross_corr_dist(sspikes_w1, lencorr = 30)\n",
    "print(time.time()-t0)\n",
    "\n"
   ]
  },
  {
   "cell_type": "code",
   "execution_count": null,
   "id": "bec4c9a6",
   "metadata": {},
   "outputs": [],
   "source": [
    "\n",
    "t0 = time.time()\n",
    "sspikes_w3, __ = firing_rate(spikes, sigma = 1, min_time = min_w_3, max_time = max_w_3, \n",
    "                            dt_orig = 0.1, res = 10000)\n",
    "sspikes_w3 = np.sqrt(sspikes_w3)\n",
    "print(time.time()- t0)\n",
    "\n",
    "\n",
    "t0 = time.time()\n",
    "Xcorr_w3 =  cross_corr_dist(sspikes_w3, lencorr = 30)\n",
    "print(time.time()-t0)\n"
   ]
  },
  {
   "cell_type": "code",
   "execution_count": null,
   "id": "a704e93e",
   "metadata": {},
   "outputs": [],
   "source": [
    "np.savez('R1_Xcorrs',Xcorr_of1 = Xcorr_of1, Xcorr_w1 = Xcorr_w1 ,Xcorr_w3 = Xcorr_w3)\n"
   ]
  },
  {
   "cell_type": "code",
   "execution_count": null,
   "id": "9b99d03f",
   "metadata": {},
   "outputs": [],
   "source": [
    "f = np.load('R1_Xcorrs.npz', allow_pickle = True)\n",
    "Xcorr_of1 = f['Xcorr_of1'] \n",
    "Xcorr_w1 = f['Xcorr_w1']\n",
    "Xcorr_w3 = f['Xcorr_w3']\n",
    "f.close()\n"
   ]
  },
  {
   "cell_type": "code",
   "execution_count": null,
   "id": "cbe16b22",
   "metadata": {},
   "outputs": [],
   "source": [
    "tt, xx, yy, speed, hd_of = get_pos(x, y, t, hd_azimuth,\n",
    "                                   min_time = min_of_1, max_time = max_of_1, dt_orig = 0.1, res = 10000)\n",
    "\n",
    "tt0, xx0, yy0, speed0, hd_of0 = get_pos(x, y, t, hd_azimuth,\n",
    "                                   min_time = min_of_2, max_time = max_of_2, dt_orig = 0.1, res = 10000)\n",
    "\n",
    "\n",
    "tt, xx, yy, speed, hd_of = (np.concatenate((tt,tt0)), \n",
    "                                 np.concatenate((xx,xx0)), \n",
    "                                 np.concatenate((yy,yy0)), \n",
    "                                 np.concatenate((speed, speed0)),\n",
    "                                 np.concatenate((hd_of,hd_of0)))"
   ]
  },
  {
   "cell_type": "code",
   "execution_count": null,
   "id": "a10ed8ce",
   "metadata": {},
   "outputs": [],
   "source": [
    "tt1, xx1, yy1, speed1, hd_of1 = get_pos(x, y, t, hd_azimuth,\n",
    "                                   min_time = min_of_1, max_time = max_of_1, dt_orig = 0.01, res = 100000)\n"
   ]
  },
  {
   "cell_type": "code",
   "execution_count": null,
   "id": "62e9f3ef",
   "metadata": {},
   "outputs": [],
   "source": [
    "\n",
    "hd_info = np.zeros(num_neurons)\n",
    "for i in range(num_neurons):\n",
    "    mtot, __,  circ  = binned_statistic(hd_of, sspikes_of1[:,i],\n",
    "                                              statistic = 'mean', \n",
    "                                              bins = 30)\n",
    "    mu = np.mean(sspikes_of1[:,i])\n",
    "    hd_info[i] = information_score_1d(mtot, circ-1, mu)\n"
   ]
  },
  {
   "cell_type": "markdown",
   "id": "0fa3220c",
   "metadata": {},
   "source": [
    "Cluster neurons using agglomerative clustering with average linkage, of given threshold."
   ]
  },
  {
   "cell_type": "code",
   "execution_count": null,
   "id": "7790a9b2",
   "metadata": {},
   "outputs": [],
   "source": [
    "d1 = np.zeros((len(spikes),len(spikes)))\n",
    "for x in [Xcorr_w1, Xcorr_w3, Xcorr_of1  ]:    \n",
    "    x[np.isnan(x)] = 0\n",
    "    dd1 = squareform(pdist(np.square(x), 'correlation'))\n",
    "    dd1[np.isnan(dd1)] = 2\n",
    "    d1 += dd1\n",
    "infs = np.isinf(d1)\n",
    "d1[infs] = np.max(d1[~infs])*2\n",
    "d1 /= 3"
   ]
  },
  {
   "cell_type": "code",
   "execution_count": null,
   "id": "da5ab4b3",
   "metadata": {},
   "outputs": [],
   "source": [
    "is_conj_all = np.concatenate((isall['is_conj_R1_day1'],\n",
    "                              isall['is_conj_R2_day1'],\n",
    "                              isall['is_conj_R3_day1']))"
   ]
  },
  {
   "cell_type": "code",
   "execution_count": null,
   "id": "79ed2e92",
   "metadata": {},
   "outputs": [],
   "source": [
    "is_conj_all1 = np.zeros(len(is_conj_all), dtype = int)\n",
    "len1 = len(isall['is_conj_R1_day1'])\n",
    "len3 = len(isall['is_conj_R3_day1'])\n",
    "is_conj_all1[:len1][isall['is_conj_R1_day1']] = 1\n",
    "is_conj_all1[:len1][~isall['is_conj_R1_day1']] = 2\n",
    "is_conj_all1[len1:-len3][isall['is_conj_R2_day1']] = 3\n",
    "is_conj_all1[len1:-len3][~isall['is_conj_R2_day1']] = 4\n",
    "is_conj_all1[-len3:][isall['is_conj_R3_day1']] = 5\n",
    "is_conj_all1[-len3:][~isall['is_conj_R3_day1']] = 6\n",
    "is_conj_all1 -= 1"
   ]
  },
  {
   "cell_type": "code",
   "execution_count": null,
   "id": "715e734f",
   "metadata": {
    "scrolled": false
   },
   "outputs": [],
   "source": [
    "plt.viridis()\n",
    "dvals = d1[np.triu_indices(len(d1),1)]\n",
    "thr = np.round(np.percentile(dvals,42),1)\n",
    "thr = 0.4\n",
    "print(thr)\n",
    "ind1 = get_ind(d1,thr, linkage = 'average')\n",
    "indcount = np.bincount(ind1)\n",
    "rel_inds = np.where(indcount>20)[0]\n",
    "for i in rel_inds:\n",
    "    print(i)\n",
    "    print(np.bincount(is_conj_all1[ind1 == i], minlength = 6))\n",
    "    print(np.bincount(is_conj_all1[ind1 == i], minlength = 6)/indcount[i])"
   ]
  },
  {
   "cell_type": "code",
   "execution_count": null,
   "id": "79d465a4",
   "metadata": {
    "scrolled": false
   },
   "outputs": [],
   "source": [
    "\n",
    "dim = 8         # number of principal components\n",
    "k = 1000          # number of neighbours for downsampling\n",
    "nbs = 1000         # number of neighbours for metric\n",
    "maxdim = 1        # dimension of homology - often just do 1 as it could be expensive (depends on number of points and neighbours)\n",
    "metric = 'cosine' # what metric to use for persistence\n",
    "pthr = 0\n",
    "dt_curr = 0.01\n",
    "time_resolution = 100000\n",
    "\n",
    "sigma = 6\n",
    "sp = 0.1\n",
    "eps = 0.8\n",
    "nn = 2\n",
    "n_points = 2200\n",
    "sspikes_of = firing_rate(spikes, sigma = sigma, min_time = min_of_1, max_time = max_of_1, \n",
    "                          dt_orig = dt_curr, res = time_resolution)[0]\n",
    "\n",
    "i = np.argmax(np.bincount(ind1))\n",
    "mod_ind1s = np.where(ind1 == i)[0]            \n",
    "##########    Initial preprocessing ########## \n",
    "sspikes1 = np.sqrt(sspikes_of[:, mod_ind1s])\n",
    "num_times_all, num_neurons = np.shape(sspikes1)\n",
    "\n",
    "movetimes0 = np.arange(0,num_times_all,nn)\n",
    "movetimes0 = movetimes0[np.where((speed1[movetimes0]>=0.1))[0]]\n",
    "print('len movetimes0', len(movetimes0))\n",
    "spksum = np.sum(sspikes1,1)[movetimes0]\n",
    "movetimes0 = movetimes0[np.where(spksum> np.percentile(spksum,pthr))[0]]\n",
    "sspikes1 = sspikes1[movetimes0, :]\n",
    "\n",
    "##########    Dimension reduce ##########            \n",
    "dim_red_spikes_move_scaled = preprocessing.scale(sspikes1,axis = 0)\n",
    "dim_red_spikes_move_scaled, e1, e2, var_exp = pca(dim_red_spikes_move_scaled, dim = dim)\n",
    "dim_red_spikes_move_scaled /= np.sqrt(e2[:dim])\n",
    "\n",
    "fig, ax = plt.subplots(1,1)\n",
    "ax.plot(var_exp[:15])\n",
    "ax.set_aspect(1/ax.get_data_ratio())\n",
    "plt.show()\n",
    "\n",
    "##########    Downsample ##########            \n",
    "startindex = np.argmax(np.sum(np.abs(dim_red_spikes_move_scaled),1))\n",
    "movetimes1 = radial_downsampling(dim_red_spikes_move_scaled, epsilon = eps, \n",
    "    startindex = startindex)\n",
    "print('len movetimes1', len(movetimes1))\n",
    "\n",
    "indstemp  = sample_denoising(dim_red_spikes_move_scaled[movetimes1,:],  k, \n",
    "                                   n_points, 1, 'cosine')[0]\n",
    "indstemp = movetimes1[indstemp]\n",
    "dim_red_spikes_move_scaled = dim_red_spikes_move_scaled[indstemp,:]\n",
    "np.savez('roger_conj', movetimes0 = movetimes0, movetimes1 = movetimes1, indstemp = indstemp)\n",
    "\n",
    "indstemp = indstemp[:n_points]\n",
    "dim_red_spikes_move_scaled = dim_red_spikes_move_scaled[:n_points,:]\n",
    "\n",
    "X = squareform(pdist(dim_red_spikes_move_scaled[:,:], metric))\n",
    "\n",
    "##########    Compute cohomology ##########            \n",
    "persistence, dgms = compute_persistence(X, maxdim)\n",
    "plt.figure()\n",
    "plot_diagrams(dgms, list(np.arange(maxdim+1)), lifetime = True)\n",
    "plt.show()\n",
    "fig = plot_barcode(dgms)"
   ]
  },
  {
   "cell_type": "markdown",
   "id": "7874326a",
   "metadata": {},
   "source": [
    "### UMAP"
   ]
  },
  {
   "cell_type": "code",
   "execution_count": null,
   "id": "66d66f52",
   "metadata": {
    "scrolled": true
   },
   "outputs": [],
   "source": [
    "from umap import UMAP\n",
    "\n",
    "help(UMAP)\n",
    "\n",
    "uclass = UMAP(n_neighbors=100, \n",
    "             n_components=3, \n",
    "             metric='cosine', \n",
    "             metric_kwds=None, \n",
    "             output_metric='euclidean', \n",
    "             output_metric_kwds=None, \n",
    "             n_epochs=None, \n",
    "             learning_rate=1.0, \n",
    "             init='spectral',\n",
    "              min_dist=0.1, \n",
    "              spread=1.0, low_memory=True, \n",
    "         n_jobs=-1, set_op_mix_ratio=1.0, local_connectivity=1.0, \n",
    "         repulsion_strength=1.0, negative_sample_rate=5, transform_queue_size=4.0, a=None, b=None,\n",
    "         random_state=None, angular_rp_forest=False, target_n_neighbors=-1, target_metric='categorical', \n",
    "         target_metric_kwds=None, target_weight=0.5, transform_seed=42, transform_mode='embedding', \n",
    "         force_approximation_algorithm=False, verbose=False, tqdm_kwds=None, unique=False, densmap=False,\n",
    "         dens_lambda=2.0, dens_frac=0.3, dens_var_shift=0.1, output_dens=False, disconnection_distance=None, \n",
    "         precomputed_knn=(None, None, None))"
   ]
  },
  {
   "cell_type": "code",
   "execution_count": null,
   "id": "0f71aa30",
   "metadata": {},
   "outputs": [],
   "source": [
    "n_points = 2500\n",
    "sspikes1 = np.sqrt(sspikes_of)\n",
    "                \n",
    "randints = np.random.randint(low = 0, high = len(sspikes1), size =10000)\n",
    "dim_red_spikes_move_scaled = preprocessing.scale(sspikes1[randints,:],axis = 0)\n",
    "dim_red_spikes_move_scaled, e1, e2, var_exp = pca(dim_red_spikes_move_scaled, dim = dim)\n",
    "dim_red_spikes_move_scaled /= np.sqrt(e2[:dim])"
   ]
  },
  {
   "cell_type": "code",
   "execution_count": null,
   "id": "22bf88f5",
   "metadata": {},
   "outputs": [],
   "source": [
    "e4 = uclass.fit_transform(dim_red_spikes_move_scaled)\n"
   ]
  },
  {
   "cell_type": "code",
   "execution_count": null,
   "id": "3be0933c",
   "metadata": {
    "scrolled": false
   },
   "outputs": [],
   "source": [
    "for i in [-60, 0, 60]:\n",
    "    for j in [-120, -60, 0, 60, 120]:    \n",
    "        plt.hsv()\n",
    "        fig = plt.figure(figsize = (10,10), dpi = 120)\n",
    "        ax = fig.add_subplot(111, projection = '3d')\n",
    "        ax.scatter(e4[:,0], e4[:,1], e4[:,2], s = 4, c = hd_of1[randints])\n",
    "        ax.view_init(i,j)\n",
    "        ax.axis('off')"
   ]
  },
  {
   "cell_type": "code",
   "execution_count": null,
   "id": "d63ea69c",
   "metadata": {},
   "outputs": [],
   "source": [
    "sspikes1 = np.sqrt(sspikes_of)\n",
    "                \n",
    "dim_red_spikes_move_scaled = preprocessing.scale(sspikes1[:, mod_ind1s][movetimes0,:],axis = 0)\n",
    "dim_red_spikes_move_scaled, e1, e2, var_exp = pca(dim_red_spikes_move_scaled, dim = dim)\n",
    "dim_red_spikes_move_scaled /= np.sqrt(e2[:dim])\n"
   ]
  },
  {
   "cell_type": "code",
   "execution_count": null,
   "id": "e175d2a7",
   "metadata": {},
   "outputs": [],
   "source": [
    "e4 = uclass.transform(dim_red_spikes_move_scaled[movetimes1])\n"
   ]
  },
  {
   "cell_type": "code",
   "execution_count": null,
   "id": "6a219ce6",
   "metadata": {
    "scrolled": false
   },
   "outputs": [],
   "source": [
    "for i in [-60, 0, 60]:\n",
    "    for j in [ -120, -60, 0, 60, 120]:   \n",
    "        print(i,j)\n",
    "        plt.hsv()\n",
    "        fig = plt.figure(figsize = (10,10), dpi = 120)\n",
    "        ax = fig.add_subplot(111, projection = '3d')\n",
    "        ax.scatter(e4[:,0], e4[:,1], e4[:,2], s = 4, c = hd_of1[movetimes0][movetimes1])\n",
    "        ax.view_init(i,j)\n",
    "        ax.axis('off')\n",
    "        plt.show()"
   ]
  },
  {
   "cell_type": "markdown",
   "id": "f2b5c3ff",
   "metadata": {},
   "source": [
    "### Spike train"
   ]
  },
  {
   "cell_type": "code",
   "execution_count": null,
   "id": "7b1bac35",
   "metadata": {},
   "outputs": [],
   "source": [
    "min_time = min_of_1#np.min(t)\n",
    "max_time = max_of_1 #np.max(t)\n",
    "\n",
    "lent = max_time-min_time\n",
    "lent = 100\n",
    "t0 = min_time+500\n",
    "t1 = t0 + lent\n",
    "fig, ax = plt.subplots(1,1,figsize = (14, 8), dpi = 620)\n",
    "spk = []\n",
    "for i in spikes:\n",
    "    spktmp = spikes[i].copy()\n",
    "    spk.append(spktmp[(spktmp<t1) & (spktmp>t0)])\n",
    "ax.eventplot(spk, color = 'gray', linelengths =0.4)#, color=colorCodes, linelengths = lineSize)  \n",
    "\n",
    "#plt.plot([0,lent], [-1,-1], c = 'k')\n",
    "ax.set_xlim([t0,t1])\n",
    "ax.set_ylim([0,len(spk)])\n",
    "ax.set_xticks([t0,t1])\n",
    "ax.set_yticks([0,len(spk),])\n",
    "ax.set_xticklabels('')\n",
    "ax.set_yticklabels('')\n",
    "#ax.set_xlabel('Time (' + str(int(lent)) + 's)')\n",
    "#ax.set_ylabel('Neurons ' + str(len(spikes)))\n",
    "ax.spines['top'].set_visible(False)\n",
    "ax.spines['right'].set_visible(False)\n",
    "#plt.title(ff)\n",
    "t0 = t1\n",
    "plt.show()\n"
   ]
  },
  {
   "cell_type": "code",
   "execution_count": null,
   "id": "e98c580e",
   "metadata": {},
   "outputs": [],
   "source": [
    "min_time = min_of_1#np.min(t)\n",
    "max_time = max_of_1 #np.max(t)\n",
    "\n",
    "lent = max_time-min_time\n",
    "lent = 100\n",
    "t0 = min_time+500\n",
    "t1 = t0 + lent\n",
    "fig, ax = plt.subplots(1,1,figsize = (14, 8), dpi = 620)\n",
    "spk = []\n",
    "for i in mod_ind1s:\n",
    "    spktmp = spikes[i].copy()\n",
    "    spk.append(spktmp[(spktmp<t1) & (spktmp>t0)])\n",
    "ax.eventplot(spk, color = 'gray', linelengths =0.4)#, color=colorCodes, linelengths = lineSize)  \n",
    "\n",
    "#plt.plot([0,lent], [-1,-1], c = 'k')\n",
    "ax.set_xlim([t0,t1])\n",
    "ax.set_ylim([0,len(spk)])\n",
    "ax.set_xticks([t0,t1])\n",
    "ax.set_yticks([0,len(spk),])\n",
    "ax.set_xticklabels('')\n",
    "ax.set_yticklabels('')\n",
    "#ax.set_xlabel('Time (' + str(int(lent)) + 's)')\n",
    "#ax.set_ylabel('Neurons ' + str(len(spikes)))\n",
    "ax.spines['top'].set_visible(False)\n",
    "ax.spines['right'].set_visible(False)\n",
    "#plt.title(ff)\n",
    "t0 = t1\n",
    "plt.show()\n"
   ]
  },
  {
   "cell_type": "code",
   "execution_count": null,
   "id": "dee49cd3",
   "metadata": {},
   "outputs": [],
   "source": [
    "78/140*2.86\n",
    "tt1_ds = tt1[movetimes0[indstemp]]\n",
    "min_time = min_of_1+500#np.min(t)\n",
    "max_time = max_of_1 #np.max(t)\n",
    "\n",
    "lent = max_time-min_time\n",
    "lent = 100\n",
    "t0 = min_time\n",
    "t1 = t0 + lent\n",
    "tt1_ds1 = tt1_ds[(tt1_ds>t0) & (tt1_ds<t1)]\n",
    "fig, ax = plt.subplots(1,1,figsize = (14, 8), dpi = 620)\n",
    "spk = []\n",
    "for i in mod_ind1s:    \n",
    "    spktmp = spikes[i].copy()\n",
    "    spktmp = spktmp[(spktmp<t1) & (spktmp>t0)]\n",
    "    spktmp1 = []\n",
    "    for ii, i in enumerate(tt1_ds1):\n",
    "        ss1 = spktmp-i\n",
    "        if np.sum((ss1<=0.01) & (ss1>0)):\n",
    "            spktmp1.extend([i])\n",
    "    spk.append(spktmp1)\n",
    "ax.eventplot(spk, color = 'gray', linelengths =3, linewidths = 5)#, color=colorCodes, linelengths = lineSize)  \n",
    "\n",
    "#t0 = 0\n",
    "#t1 = len(tt1_ds1)\n",
    "#plt.plot([0,lent], [-1,-1], c = 'k')\n",
    "ax.set_xlim([t0,t1])\n",
    "ax.set_ylim([0,len(spk)])\n",
    "ax.set_xticks([t0,t1])\n",
    "ax.set_yticks([0,len(spk),])\n",
    "ax.set_xticklabels('')\n",
    "ax.set_yticklabels('')\n",
    "#ax.set_xlabel('Time (' + str(int(lent)) + 's)')\n",
    "#ax.set_ylabel('Neurons ' + str(len(spk)))\n",
    "ax.spines['top'].set_visible(False)\n",
    "ax.spines['right'].set_visible(False)\n",
    "#plt.title(ff)\n",
    "t0 = t1\n",
    "plt.show()\n"
   ]
  },
  {
   "cell_type": "markdown",
   "id": "5ed8bcb4",
   "metadata": {},
   "source": [
    "### CEBRA"
   ]
  },
  {
   "cell_type": "code",
   "execution_count": null,
   "id": "43402880",
   "metadata": {},
   "outputs": [],
   "source": [
    "from cebra import CEBRA\n",
    "batch_size = 128\n",
    "single_cebra_model = CEBRA(model_architecture = 'offset1-model', \n",
    "                           batch_size=batch_size, output_dimension=3,\n",
    "                           verbose = True, distance = 'cosine', \n",
    "                          )\n",
    "single_cebra_model_euclidean = CEBRA(model_architecture = 'offset1-model-mse', \n",
    "                           batch_size=batch_size, output_dimension=3,\n",
    "                           verbose = True, distance = 'euclidean'\n",
    "                          )\n"
   ]
  },
  {
   "cell_type": "code",
   "execution_count": null,
   "id": "204481b9",
   "metadata": {},
   "outputs": [],
   "source": [
    "randints = np.random.randint(low = 0, high = len(sspikes1), size =len(movetimes0))\n",
    "dim_red_spikes_move_scaled = preprocessing.scale(sspikes1[randints,:], axis = 0)\n",
    "dim_red_spikes_move_scaled, e1, e2, var_exp = pca(dim_red_spikes_move_scaled, dim = dim)\n",
    "dim_red_spikes_move_scaled /= np.sqrt(e2[:dim])"
   ]
  },
  {
   "cell_type": "code",
   "execution_count": null,
   "id": "b14ba8f2",
   "metadata": {},
   "outputs": [],
   "source": [
    "single_cebra_model.fit(dim_red_spikes_move_scaled[movetimes1])"
   ]
  },
  {
   "cell_type": "code",
   "execution_count": null,
   "id": "216754bd",
   "metadata": {},
   "outputs": [],
   "source": [
    "single_cebra_model_euclidean.fit(dim_red_spikes_move_scaled[movetimes1])"
   ]
  },
  {
   "cell_type": "code",
   "execution_count": null,
   "id": "09e51745",
   "metadata": {},
   "outputs": [],
   "source": [
    "cebra_dec = single_cebra_model.transform(dim_red_spikes_move_scaled)"
   ]
  },
  {
   "cell_type": "code",
   "execution_count": null,
   "id": "b1d5c248",
   "metadata": {},
   "outputs": [],
   "source": [
    "cebra_dec_euclidean = single_cebra_model_euclidean.transform(dim_red_spikes_move_scaled)"
   ]
  },
  {
   "cell_type": "code",
   "execution_count": null,
   "id": "352011ec",
   "metadata": {
    "scrolled": false
   },
   "outputs": [],
   "source": [
    "\n",
    "plt.hsv()\n",
    "for ii in [-90, -45,0, 45, 90]:\n",
    "    for jj in [-180, -135, -90, -45,0, 45, 90, 135,180]:\n",
    "        print(ii,jj)\n",
    "        fig = plt.figure(figsize = (10,10), dpi = 120)\n",
    "        ax = fig.add_subplot(111, projection = '3d')\n",
    "        ax.scatter(cebra_dec[:,0], cebra_dec[:,1], cebra_dec[:,2], s = 5, c = hd_of1[randints])\n",
    "        ax.view_init(ii,jj)\n",
    "        ax.axis('off')\n",
    "        plt.show()"
   ]
  },
  {
   "cell_type": "code",
   "execution_count": null,
   "id": "3453629d",
   "metadata": {
    "scrolled": false
   },
   "outputs": [],
   "source": [
    "\n",
    "plt.hsv()\n",
    "for ii in [-90, -45,0, 45, 90]:\n",
    "    for jj in [-180, -135, -90, -45,0, 45, 90, 135,180]:\n",
    "        print(ii,jj)\n",
    "        fig = plt.figure(figsize = (10,10), dpi = 120)\n",
    "        ax = fig.add_subplot(111, projection = '3d')\n",
    "        ax.scatter(cebra_dec_euclidean[:,0], cebra_dec_euclidean[:,1], cebra_dec_euclidean[:,2], s = 5, c = hd_of1[randints])\n",
    "        ax.view_init(ii,jj)\n",
    "        ax.axis('off')\n",
    "        plt.show()"
   ]
  },
  {
   "cell_type": "code",
   "execution_count": null,
   "id": "26ce9221",
   "metadata": {},
   "outputs": [],
   "source": [
    "from cebra import CEBRA\n",
    "batch_size = 128\n",
    "single_cebra_model = CEBRA(model_architecture = 'offset1-model', \n",
    "                           batch_size=batch_size, output_dimension=3,\n",
    "                           verbose = True, distance = 'cosine', \n",
    "                          )\n",
    "single_cebra_model_euclidean = CEBRA(model_architecture = 'offset1-model-mse', \n",
    "                           batch_size=batch_size, output_dimension=3,\n",
    "                           verbose = True, distance = 'euclidean'\n",
    "                          )\n"
   ]
  },
  {
   "cell_type": "code",
   "execution_count": null,
   "id": "63eaa433",
   "metadata": {},
   "outputs": [],
   "source": [
    "n_points = 2500\n",
    "dim_red_spikes_move_scaled = preprocessing.scale(sspikes1[:, mod_ind1s][movetimes0,:], axis = 0)\n",
    "dim_red_spikes_move_scaled, e1, e2, var_exp = pca(dim_red_spikes_move_scaled, dim = dim)\n",
    "dim_red_spikes_move_scaled /= np.sqrt(e2[:dim])"
   ]
  },
  {
   "cell_type": "code",
   "execution_count": null,
   "id": "05f0c569",
   "metadata": {},
   "outputs": [],
   "source": [
    "single_cebra_model.fit(dim_red_spikes_move_scaled[movetimes1])"
   ]
  },
  {
   "cell_type": "code",
   "execution_count": null,
   "id": "06c77523",
   "metadata": {},
   "outputs": [],
   "source": [
    "single_cebra_model_euclidean.fit(dim_red_spikes_move_scaled[movetimes1])"
   ]
  },
  {
   "cell_type": "code",
   "execution_count": null,
   "id": "89b72171",
   "metadata": {},
   "outputs": [],
   "source": [
    "cebra_dec = single_cebra_model.transform(dim_red_spikes_move_scaled[movetimes1])"
   ]
  },
  {
   "cell_type": "code",
   "execution_count": null,
   "id": "f8fa3604",
   "metadata": {},
   "outputs": [],
   "source": [
    "cebra_dec_euclidean = single_cebra_model_euclidean.transform(dim_red_spikes_move_scaled[movetimes1])"
   ]
  },
  {
   "cell_type": "code",
   "execution_count": null,
   "id": "6d2df27f",
   "metadata": {
    "scrolled": false
   },
   "outputs": [],
   "source": [
    "\n",
    "plt.hsv()\n",
    "for ii in [-90, -45,0, 45, 90]:\n",
    "    for jj in [-180, -135, -90, -45,0, 45, 90, 135,180]:\n",
    "        print(ii,jj)\n",
    "        fig = plt.figure(figsize = (10,10), dpi = 120)\n",
    "        ax = fig.add_subplot(111, projection = '3d')\n",
    "        ax.scatter(cebra_dec[:,0], cebra_dec[:,1], cebra_dec[:,2], s = 5, c = hd_of1[movetimes0][movetimes1])\n",
    "        ax.view_init(ii,jj)\n",
    "        ax.axis('off')\n",
    "        plt.show()"
   ]
  },
  {
   "cell_type": "code",
   "execution_count": null,
   "id": "9d545482",
   "metadata": {
    "scrolled": false
   },
   "outputs": [],
   "source": [
    "\n",
    "plt.hsv()\n",
    "for ii in [-90, -45,0, 45, 90]:\n",
    "    for jj in [-180, -135, -90, -45,0, 45, 90, 135,180]:\n",
    "        print(ii,jj)\n",
    "        fig = plt.figure(figsize = (10,10), dpi = 120)\n",
    "        ax = fig.add_subplot(111, projection = '3d')\n",
    "        ax.scatter(cebra_dec_euclidean[:,0], cebra_dec_euclidean[:,1], cebra_dec_euclidean[:,2], s = 5, c = hd_of1[movetimes0][movetimes1])\n",
    "        ax.view_init(ii,jj)\n",
    "        ax.axis('off')\n",
    "        plt.show()"
   ]
  },
  {
   "cell_type": "code",
   "execution_count": null,
   "id": "9541d3bb",
   "metadata": {},
   "outputs": [],
   "source": [
    "coords_ds, coords_ds_consistent = get_coords_consistent(persistence, coeff = 47, ph_classes = [0,1,2], \n",
    "                bConsistent = True)\n"
   ]
  },
  {
   "cell_type": "code",
   "execution_count": null,
   "id": "b394af33",
   "metadata": {},
   "outputs": [],
   "source": [
    "\n",
    "##########    Get coordinates all   ##########            \n",
    "coords_mod1 = get_coords_all(np.sqrt(sspikes_of[:, ind1==np.argmax(np.bincount(ind1))]),\n",
    "                             coords_ds_consistent,\n",
    "                             movetimes0,                             \n",
    "                             indstemp,\n",
    "                             dim = dim, \n",
    "                             bPCA = True,\n",
    "                             bPred = False)\n",
    "coords_mod1 = coords_mod1%(2*np.pi)"
   ]
  },
  {
   "cell_type": "code",
   "execution_count": null,
   "id": "0d36dea4",
   "metadata": {},
   "outputs": [],
   "source": [
    "\n",
    "\n",
    "for c in [0,1,2]:\n",
    "    fig, axs = plt.subplots(1,1)\n",
    "    nans0 = ~np.isnan(coords_mod1[:,c])\n",
    "    mtot, __, __, circ  = binned_statistic_2d(xx1,\n",
    "                                              yy1,\n",
    "                                              coords_mod1[:,c], \n",
    "                                              statistic = circmean, \n",
    "                                              bins = 50,\n",
    "                                              expand_binnumbers = True)\n",
    "\n",
    "    nans = np.isnan(mtot)\n",
    "    sintot = np.sin(mtot)\n",
    "    costot = np.cos(mtot)\n",
    "    sintot[nans] = np.mean(sintot[~nans])\n",
    "    costot[nans] = np.mean(costot[~nans])\n",
    "    sintot = gaussian_filter(sintot,1)\n",
    "    costot = gaussian_filter(costot,1)\n",
    "    mtot = np.cos(np.arctan2(sintot, costot))\n",
    "    mtot = gaussian_filter(mtot,1)\n",
    "    plt.viridis()\n",
    "    mtot[nans] = np.nan\n",
    "    axs.imshow(mtot)\n",
    "    axs.axis('off')\n",
    "    axs.set_aspect(1/axs.get_data_ratio())\n",
    "\n",
    "\n",
    "\n"
   ]
  },
  {
   "cell_type": "code",
   "execution_count": null,
   "id": "a84c798e",
   "metadata": {},
   "outputs": [],
   "source": [
    "coords_mod2 = coords_mod1.copy()\n",
    "for c in [0,1,2]:\n",
    "    coords_mod2tmp = 2*np.pi-coords_mod2[:,c]                        \n",
    "    dstmp = np.arctan2(np.mean(np.sin(hd_of1[movetimes0]-coords_mod2tmp[movetimes0])), \n",
    "                    np.mean(np.cos(hd_of1[movetimes0]-coords_mod2tmp[movetimes0])))\n",
    "    coords_mod2tmp = (coords_mod2tmp+dstmp)%(2*np.pi)\n",
    "\n",
    "\n",
    "    ds = np.arctan2(np.mean(np.sin(hd_of1[movetimes0]-coords_mod2[movetimes0,c])), \n",
    "                    np.mean(np.cos(hd_of1[movetimes0]-coords_mod2[movetimes0,c])))\n",
    "    coords_mod2[:,c] = (coords_mod2[:,c]+ds)%(2*np.pi)\n",
    "\n",
    "    ds0 = np.mean(np.abs(np.arctan2(np.sin(hd_of1[movetimes0]-coords_mod2tmp[movetimes0]), \n",
    "                          np.cos(hd_of1[movetimes0]-coords_mod2tmp[movetimes0]))))\n",
    "    ds1 = np.mean(np.abs(np.arctan2(np.sin(hd_of1[movetimes0]-coords_mod2[movetimes0,c]), \n",
    "                          np.cos(hd_of1[movetimes0]-coords_mod2[movetimes0,c]))))\n",
    "\n",
    "    if ds0 < ds1:\n",
    "        coords_mod2[:,c] = coords_mod2tmp\n",
    "        print(ds0)\n",
    "    else:\n",
    "        print(ds1)                  "
   ]
  },
  {
   "cell_type": "code",
   "execution_count": null,
   "id": "406e3933",
   "metadata": {},
   "outputs": [],
   "source": [
    "for sig in [5,6,7,8,9,10, 15]:\n",
    "    coords_mod2 =  np.arctan2(gaussian_filter1d(np.sin(coords_mod1), sigma = sig, axis = 0),\n",
    "                              gaussian_filter1d(np.cos(coords_mod1), sigma = sig, axis = 0))%(2*np.pi)\n",
    "\n",
    "    for c in [0,1,2]:\n",
    "        coords_mod2tmp = 2*np.pi-coords_mod2[:,c]                        \n",
    "        dstmp = np.arctan2(np.mean(np.sin(hd_of1[movetimes0]-coords_mod2tmp[movetimes0])), \n",
    "                        np.mean(np.cos(hd_of1[movetimes0]-coords_mod2tmp[movetimes0])))\n",
    "        coords_mod2tmp = (coords_mod2tmp+dstmp)%(2*np.pi)\n",
    "\n",
    "\n",
    "        ds = np.arctan2(np.mean(np.sin(hd_of1[movetimes0]-coords_mod2[movetimes0,c])), \n",
    "                        np.mean(np.cos(hd_of1[movetimes0]-coords_mod2[movetimes0,c])))\n",
    "        coords_mod2[:,c] = (coords_mod2[:,c]+ds)%(2*np.pi)\n",
    "\n",
    "        ds0 = np.mean(np.abs(np.arctan2(np.sin(hd_of1[movetimes0]-coords_mod2tmp[movetimes0]), \n",
    "                              np.cos(hd_of1[movetimes0]-coords_mod2tmp[movetimes0]))))\n",
    "        ds1 = np.mean(np.abs(np.arctan2(np.sin(hd_of1[movetimes0]-coords_mod2[movetimes0,c]), \n",
    "                              np.cos(hd_of1[movetimes0]-coords_mod2[movetimes0,c]))))\n",
    "\n",
    "        if ds0 < ds1:\n",
    "            coords_mod2[:,c] = coords_mod2tmp\n",
    "            print(ds0)\n",
    "        else:\n",
    "            print(ds1)                  "
   ]
  },
  {
   "cell_type": "code",
   "execution_count": null,
   "id": "43513742",
   "metadata": {
    "scrolled": false
   },
   "outputs": [],
   "source": [
    "for i in range(10):\n",
    "    times = np.arange(3000*i, 3000*(i+1))\n",
    "    fig, ax = plt.subplots(1,1, dpi = 120, figsize = (15,5))\n",
    "    ax.plot(hd_of1[times], lw = 3, c = [0.2,0.2,0.2])\n",
    "    ax.plot(coords_mod2[times,0], lw = 3, c = [0.,0.8,0.8])\n",
    "    ax.spines[['bottom', 'left']].set_linewidth(4)\n",
    "    ax.tick_params(width=4, length=10)\n",
    "    ax.set_xticks([0, 1500,3000], [])\n",
    "    ax.set_yticks([0, np.pi,2*np.pi], [])\n",
    "    #ax.set_aspect(1/ax.get_data_ratio())\n",
    "\n",
    "    ax.spines[['right', 'top']].set_visible(False)\n",
    "    plt.show()"
   ]
  },
  {
   "cell_type": "code",
   "execution_count": null,
   "id": "4bd0886e",
   "metadata": {},
   "outputs": [],
   "source": [
    "inds, inds_label =  get_coord_distribution(coords_mod1, numbins = 50,epsilon = 0.5, metric = 'euclidean', startindex = -1)\n",
    "\n",
    "meanval_inds = np.zeros((num_neurons, len(inds)))\n",
    "for neurid in range(num_neurons):\n",
    "    for ii, i in enumerate(inds):\n",
    "        meanval_inds[neurid, ii] = np.mean(sspikes_of[inds_label[i],mod_ind1s[neurid]])"
   ]
  },
  {
   "cell_type": "code",
   "execution_count": null,
   "id": "a51c8e43",
   "metadata": {
    "scrolled": true
   },
   "outputs": [],
   "source": [
    "for nn in range(num_neurons):\n",
    "    print(nn)\n",
    "    fig = plt.figure()\n",
    "    ax = fig.add_subplot(111, projection = '3d')\n",
    "    ax.scatter(coords_mod1[inds,0],coords_mod1[inds,1],coords_mod1[inds,2], s = 150, alpha = 0.8,\n",
    "              c = meanval_inds[nn,:])\n",
    "    ax.set_xticks([0, np.pi,2*np.pi], [])\n",
    "    ax.set_yticks([0, np.pi,2*np.pi], [])\n",
    "    ax.set_zticks([0, np.pi,2*np.pi], [])\n",
    "    plt.show()\n",
    "    #ax.axis('off')"
   ]
  },
  {
   "cell_type": "code",
   "execution_count": null,
   "id": "d58bab29",
   "metadata": {
    "scrolled": true
   },
   "outputs": [],
   "source": [
    "from matplotlib import gridspec\n",
    "conj_cells = [0,16,25,29,2,8,19, 49]\n",
    "numfigs = 3\n",
    "numw = 1\n",
    "num_neurons = len(conj_cells)\n",
    "numh = int(np.ceil(num_neurons/numw))\n",
    "outer1 = gridspec.GridSpec(1, numw)\n",
    "fig = plt.figure(figsize=(np.ceil((numw*numfigs+numw-1)*1.05), np.ceil(numh*1.1)), dpi = 160)\n",
    "nw = 0\n",
    "numbins1 = 30\n",
    "#torsort = np.flip(np.argsort(hd_info))\n",
    "for nn, n in enumerate(conj_cells):\n",
    "    nnn = nn%numh\n",
    "\n",
    "    if nnn == 0:\n",
    "        outer2 = gridspec.GridSpecFromSubplotSpec(1, 1, subplot_spec = outer1[nw], wspace = .4)\n",
    "        gs2 = gridspec.GridSpecFromSubplotSpec(numh, numfigs, subplot_spec = outer2[0], \n",
    "                                               width_ratios = [1,1,1],\n",
    "                                               hspace = 0.2,wspace = .2)\n",
    "        nw += 1\n",
    "    xnum = 0\n",
    "\n",
    "    ax = plt.subplot(gs2[nnn,xnum]) \n",
    "    xnum += 1\n",
    "    mtot, __, __, circ  = binned_statistic_2d(xx1,\n",
    "                                          yy1,\n",
    "                                          sspikes_of[:,mod_ind1s[n]], \n",
    "                                          statistic = 'mean', \n",
    "                                          bins = 30,\n",
    "                                          expand_binnumbers = True)\n",
    "\n",
    "    nans = np.isnan(mtot)\n",
    "    mtot[nans] = np.mean(mtot[~nans])\n",
    "    mtot = gaussian_filter(mtot, 1)\n",
    "    plt.viridis()\n",
    "    vals = np.unique(mtot)\n",
    "    maxtot = np.sort(mtot.flatten())\n",
    "    mintot = maxtot[int(0.025*len(maxtot))]\n",
    "    maxtot = maxtot[int(0.975*len(maxtot))]\n",
    "    mtot[nans] = np.nan\n",
    "    \n",
    "    ax.imshow(mtot, origin = 'lower', extent = [0,2*np.pi,0, 2*np.pi], vmin = mintot, vmax = maxtot)\n",
    "    ax.set_xticks([])\n",
    "    ax.set_yticks([])\n",
    "\n",
    "    ax = plt.subplot(gs2[nnn,xnum], projection = 'polar')\n",
    "    \n",
    "    xnum += 1    \n",
    "    bins = np.linspace(0,2*np.pi,31)\n",
    "\n",
    "#    rec = binned_statistic(coords_mod1[:,0], sspikes_of[:,mod_ind1s[n]], statistic = 'mean', bins=bins, range=None)[0]\n",
    "#    rec[np.isnan(rec)] = 0\n",
    "#    rec /= np.max(rec)\n",
    "#    rec = gaussian_filter1d(rec, mode = 'wrap', sigma = 1)\n",
    "    \n",
    "    dec = binned_statistic(hd_of1[:], sspikes_of[:,mod_ind1s[n]], statistic = 'mean', bins=bins, range=None)[0]\n",
    "    dec[np.isnan(dec)] = 0\n",
    "    dec /= np.max(dec)\n",
    "    dec = gaussian_filter1d(dec, mode = 'wrap', sigma = 1)\n",
    "    ax.plot(bins, np.concatenate(([dec[-1]], dec)), \n",
    "            lw = 4, ls = '-', alpha = 0.9, c = [0.2,0.2,0.2], label = 'Dec OF')\n",
    "\n",
    "    ax.set_rticks([0.33, 0.66,1]) \n",
    "    ax.set_yticklabels('')\n",
    "    ax.set_xticklabels('')\n",
    "    ax.set_rlim([0,1.1])\n",
    "    \n",
    "\n",
    "    ax = plt.subplot(gs2[nnn,xnum], projection = '3d')\n",
    "    xnum += 1\n",
    "    ax.scatter(coords_mod1[inds,0],coords_mod1[inds,1],coords_mod1[inds,2], s = 10, alpha = 0.8,\n",
    "              c = meanval_inds[n,:])\n",
    "    ax.set_xticks([0, np.pi,2*np.pi], [])\n",
    "    ax.set_yticks([0, np.pi,2*np.pi], [])\n",
    "    ax.set_zticks([0, np.pi,2*np.pi], [])\n",
    "#    ax.set_aspect('equal')\n"
   ]
  },
  {
   "cell_type": "code",
   "execution_count": null,
   "id": "f3d67ef8",
   "metadata": {
    "scrolled": true
   },
   "outputs": [],
   "source": [
    "\n",
    "from matplotlib import gridspec\n",
    "numfigs = 3\n",
    "numw = 1\n",
    "num_neurons = len(conj_cells)\n",
    "numh = int(np.ceil(num_neurons/numw))\n",
    "outer1 = gridspec.GridSpec(1, numw)\n",
    "fig = plt.figure(figsize=(np.ceil((numw*numfigs+numw-1)*1.05), np.ceil(numh*1.1)), dpi = 160)\n",
    "nw = 0\n",
    "numbins1 = 30\n",
    "#torsort = np.flip(np.argsort(hd_info))\n",
    "for nn, n in enumerate(conj_cells):\n",
    "    nnn = nn%numh\n",
    "\n",
    "    if nnn == 0:\n",
    "        outer2 = gridspec.GridSpecFromSubplotSpec(1, 1, subplot_spec = outer1[nw], wspace = .4)\n",
    "        gs2 = gridspec.GridSpecFromSubplotSpec(numh, numfigs, subplot_spec = outer2[0], \n",
    "                                               width_ratios = [1,1,1],\n",
    "                                               hspace = 0.,wspace = 0.)\n",
    "        nw += 1\n",
    "    xnum = 0\n",
    "\n",
    "\n",
    "    ax = plt.subplot(gs2[nnn,xnum], projection = '3d')\n",
    "    xnum += 1\n",
    "    ax.scatter(coords_mod1[inds,0],coords_mod1[inds,1],coords_mod1[inds,2], s = 10, alpha = 0.8,\n",
    "              c = meanval_inds[n,:])\n",
    "    ax.set_xticks([0, np.pi,2*np.pi], [])\n",
    "    ax.set_yticks([0, np.pi,2*np.pi], [])\n",
    "    ax.set_zticks([0, np.pi,2*np.pi], [])\n",
    "#    ax.set_aspect('equal')\n"
   ]
  },
  {
   "cell_type": "code",
   "execution_count": null,
   "id": "37c13032",
   "metadata": {},
   "outputs": [],
   "source": []
  },
  {
   "cell_type": "code",
   "execution_count": null,
   "id": "2978e4d3",
   "metadata": {},
   "outputs": [],
   "source": []
  },
  {
   "cell_type": "markdown",
   "id": "13a132c4",
   "metadata": {},
   "source": [
    "## Rat S"
   ]
  },
  {
   "cell_type": "code",
   "execution_count": null,
   "id": "0be2dddc",
   "metadata": {},
   "outputs": [],
   "source": [
    "f = np.load('/Users/erihe/OneDrive - NTNU/Prosjekt/Toroidal_topology_grid_cell_data/rat_s_grid_modules_1.npz', \n",
    "            allow_pickle = True)\n",
    "spikes = {}\n",
    "it = 0\n",
    "for k in ['spikes_mod1',]:# 'spikes_mod2', 'spikes_mod3']:\n",
    "    spktemp = f[k][()]\n",
    "    for kk in spktemp:\n",
    "        spikes[it] = spktemp[kk]\n",
    "        it += 1\n",
    "t = f['t']\n",
    "x = f['x']\n",
    "y = f['y']\n",
    "hd_azimuth = f['azimuth']\n",
    "f.close()"
   ]
  },
  {
   "cell_type": "code",
   "execution_count": null,
   "id": "31f029f6",
   "metadata": {},
   "outputs": [],
   "source": [
    "min_of_1, max_of_1 = 9939, 12363\n",
    "min_w_1, max_w_1 = 13670, 14847 \n",
    "min_w_2, max_w_2 = 14942, 23133 \n",
    "min_w_3, max_w_3 = 23186, 24936 \n"
   ]
  },
  {
   "cell_type": "code",
   "execution_count": null,
   "id": "35c6f7f4",
   "metadata": {},
   "outputs": [],
   "source": [
    "num_neurons = len(spikes)\n",
    "meanRate_of = np.zeros((num_neurons))\n",
    "for i in range(num_neurons):\n",
    "    spk = spikes[i].copy()\n",
    "    meanRate_of[i] = np.sum((spk>min_of_1) & (spk<max_of_1))\n",
    "meanRate_of/=(max_of_1-min_of_1)\n"
   ]
  },
  {
   "cell_type": "code",
   "execution_count": null,
   "id": "71406a8d",
   "metadata": {},
   "outputs": [],
   "source": [
    "hd_azimuth[np.isnan(hd_azimuth)] = 0"
   ]
  },
  {
   "cell_type": "code",
   "execution_count": null,
   "id": "11c0f74c",
   "metadata": {},
   "outputs": [],
   "source": [
    "tt, xx, yy, speed, hd_of = get_pos(x, y, t, hd_azimuth,\n",
    "                                   min_time = min_of_1, max_time = max_of_1, dt_orig = 0.1, res = 10000)\n",
    "\n",
    "\n",
    "tt1, xx1, yy1, speed1, hd_of1 = get_pos(x, y, t, hd_azimuth,\n",
    "                                   min_time = min_of_1, max_time = max_of_1, dt_orig = 0.01, res = 100000)\n",
    "\n",
    "tt_w, xx_w, yy_w, speed_w, hd_w = get_pos(x, y, t, hd_azimuth,\n",
    "                                   min_time = min_w_1, max_time = max_w_1, dt_orig = 0.1, res = 10000)\n",
    "\n",
    "\n",
    "tt1_w, xx1_w, yy1_w, speed1_w, hd_w1 = get_pos(x, y, t, hd_azimuth,\n",
    "                                   min_time = min_w_1, max_time = max_w_1, dt_orig = 0.01, res = 100000)\n"
   ]
  },
  {
   "cell_type": "code",
   "execution_count": null,
   "id": "11437036",
   "metadata": {},
   "outputs": [],
   "source": [
    "#### 'firing_rate' is more temporally precise, but might be slower\n",
    "\n",
    "t0 = time.time()\n",
    "sspikes_of, __ = firing_rate(spikes, sigma = 1, min_time = min_of_1, max_time = max_of_1, \n",
    "                             dt_orig = 0.1, res = 100000)\n",
    "print(time.time()- t0)\n",
    "sspikes_of = np.sqrt(sspikes_of)\n",
    "t0 = time.time()\n",
    "Xcorr_of =  cross_corr_dist(sspikes_of, lencorr = 30)\n",
    "print(time.time()-t0)\n",
    "#np.savez('roger_of', sspikes = sspikes_of, Xcorr = Xcorr_of)\n",
    "#del sspikes_of"
   ]
  },
  {
   "cell_type": "code",
   "execution_count": null,
   "id": "005b21f1",
   "metadata": {},
   "outputs": [],
   "source": [
    "#### 'firing_rate' is more temporally precise, but might be slower\n",
    "\n",
    "t0 = time.time()\n",
    "sspikes_w1, __ = firing_rate(spikes, sigma = 1, min_time = min_w_1, max_time = max_w_1, \n",
    "                             dt_orig = 0.1, res = 100000)\n",
    "print(time.time()- t0)\n",
    "sspikes_w1 = np.sqrt(sspikes_w1)\n",
    "t0 = time.time()\n",
    "Xcorr_w1 =  cross_corr_dist(sspikes_w1, lencorr = 30)\n",
    "print(time.time()-t0)\n",
    "#np.savez('roger_w', sspikes = sspikes_w, Xcorr = Xcorr_w)\n",
    "#del sspikes_w"
   ]
  },
  {
   "cell_type": "code",
   "execution_count": null,
   "id": "4eb0e042",
   "metadata": {},
   "outputs": [],
   "source": [
    "#### 'firing_rate' is more temporally precise, but might be slower\n",
    "\n",
    "t0 = time.time()\n",
    "sspikes_w2, __ = firing_rate(spikes, sigma = 1, min_time = min_w_2, max_time = max_w_2, \n",
    "                             dt_orig = 0.1, res = 100000)\n",
    "print(time.time()- t0)\n",
    "sspikes_w2 = np.sqrt(sspikes_w2)\n",
    "t0 = time.time()\n",
    "Xcorr_w2 =  cross_corr_dist(sspikes_w2, lencorr = 30)\n",
    "print(time.time()-t0)\n",
    "#np.savez('roger_w', sspikes = sspikes_w, Xcorr = Xcorr_w)\n",
    "#del sspikes_w"
   ]
  },
  {
   "cell_type": "code",
   "execution_count": null,
   "id": "1af036ec",
   "metadata": {},
   "outputs": [],
   "source": [
    "#### 'firing_rate' is more temporally precise, but might be slower\n",
    "\n",
    "t0 = time.time()\n",
    "sspikes_w3, __ = firing_rate(spikes, sigma = 1, min_time = min_w_3, max_time = max_w_3, \n",
    "                             dt_orig = 0.1, res = 100000)\n",
    "print(time.time()- t0)\n",
    "sspikes_w3 = np.sqrt(sspikes_w3)\n",
    "t0 = time.time()\n",
    "Xcorr_w3 =  cross_corr_dist(sspikes_w3, lencorr = 30)\n",
    "print(time.time()-t0)\n",
    "#np.savez('roger_w', sspikes = sspikes_w, Xcorr = Xcorr_w)\n",
    "#del sspikes_w"
   ]
  },
  {
   "cell_type": "code",
   "execution_count": null,
   "id": "39c26f10",
   "metadata": {},
   "outputs": [],
   "source": [
    "del sspikes_w1, sspikes_w2,sspikes_w3"
   ]
  },
  {
   "cell_type": "code",
   "execution_count": null,
   "id": "9777c388",
   "metadata": {},
   "outputs": [],
   "source": [
    "np.savez('shane_Xcorrs',Xcorr_of = Xcorr_of, Xcorr_w1 = Xcorr_w1 ,Xcorr_w2 = Xcorr_w2, Xcorr_w3 = Xcorr_w3 )\n",
    "\n",
    "f = np.load('shane_Xcorrs.npz', allow_pickle = True)\n",
    "Xcorr_of = f['Xcorr_of']\n",
    "Xcorr_w1 = f['Xcorr_w1']\n",
    "Xcorr_w2 = f['Xcorr_w2']\n",
    "Xcorr_w3 = f['Xcorr_w3']\n",
    "f.close()"
   ]
  },
  {
   "cell_type": "code",
   "execution_count": null,
   "id": "e6f8b967",
   "metadata": {},
   "outputs": [],
   "source": [
    "d1 = np.zeros((len(spikes),len(spikes)))\n",
    "for x in [Xcorr_w1,Xcorr_w2,  Xcorr_of]:    #Xcorr_w3\n",
    "    dd1 = squareform(pdist(np.square(x), 'correlation'))\n",
    "    d1 += dd1\n",
    "infs = np.isinf(d1)\n",
    "d1[infs] = np.max(d1[~infs])*2\n",
    "d1 /= 4"
   ]
  },
  {
   "cell_type": "code",
   "execution_count": null,
   "id": "b7d36114",
   "metadata": {},
   "outputs": [],
   "source": [
    "num_neurons = len(spikes)\n",
    "hd_info = np.zeros(num_neurons)\n",
    "for i in range(num_neurons):\n",
    "    mtot, __,  circ  = binned_statistic(hd_of, sspikes_of[:,i],\n",
    "                                              statistic = 'mean', \n",
    "                                              bins = 30)\n",
    "    mu = np.mean(sspikes_of[:,i])\n",
    "    hd_info[i] = information_score_1d(mtot, circ-1, mu)\n"
   ]
  },
  {
   "cell_type": "code",
   "execution_count": null,
   "id": "4af218ee",
   "metadata": {},
   "outputs": [],
   "source": [
    "plt.viridis()\n",
    "dvals = d1[np.triu_indices(len(d1),1)]\n",
    "thr = np.round(np.percentile(dvals,42),1)\n",
    "thr = 0.4\n",
    "print(thr)\n",
    "ind1 = get_ind(d1,thr, linkage = 'average')\n",
    "\n",
    "print(np.bincount(isall['is_conj_S1'][ind1 == np.argmax(np.bincount(ind1))]))\n",
    "print(np.bincount(isall['is_conj_S1'][ind1 == np.argmax(np.bincount(ind1))])/np.max(np.bincount(ind1)))"
   ]
  },
  {
   "cell_type": "code",
   "execution_count": null,
   "id": "03fb64fb",
   "metadata": {},
   "outputs": [],
   "source": [
    "fig, ax = plt.subplots(1,1)\n",
    "ax.scatter(meanRate_of[isall['is_conj_S1'] == 0], hd_info[isall['is_conj_S1'] == 0])\n",
    "ax.scatter(meanRate_of[isall['is_conj_S1'] != 0], hd_info[isall['is_conj_S1'] != 0])\n",
    "ax.spines[['bottom', 'left']].set_linewidth(4)\n",
    "ax.tick_params(width=4, length=10)\n",
    "ax.set_xticks([0, 3.5,7], [])\n",
    "ax.set_yticks([0, 0.5,1], [])\n",
    "ax.set_aspect(1/ax.get_data_ratio())\n",
    "ax.set_alpha(0)\n",
    "ax.patch.set_alpha(0)\n",
    "\n",
    "ax.spines[['right', 'top']].set_visible(False)"
   ]
  },
  {
   "cell_type": "code",
   "execution_count": null,
   "id": "280e0356",
   "metadata": {
    "scrolled": false
   },
   "outputs": [],
   "source": [
    "\n",
    "dim = 8         # number of principal components\n",
    "k = 1000          # number of neighbours for downsampling\n",
    "nbs = 1000         # number of neighbours for metric\n",
    "maxdim = 1        # dimension of homology - often just do 1 as it could be expensive (depends on number of points and neighbours)\n",
    "metric = 'cosine' # what metric to use for persistence\n",
    "pthr = 0\n",
    "dt_curr = 0.01\n",
    "time_resolution = 100000\n",
    "\n",
    "for sigma in [6,]:\n",
    "    sspikes_of = firing_rate(spikes, sigma = sigma, min_time = min_of_1, max_time = max_of_1, \n",
    "                              dt_orig = dt_curr, res = time_resolution)[0]\n",
    "\n",
    "    for sp in [0.1]:\n",
    "        for eps in [0.8,  ]:\n",
    "            i = np.argmax(np.bincount(ind1))\n",
    "            mod_ind1s = np.where(ind1 == i)[0]            \n",
    "            ##########    Initial preprocessing ########## \n",
    "            for nn in [5,]:\n",
    "                n_points = 2500\n",
    "                sspikes1 = np.sqrt(sspikes_of[:, mod_ind1s])\n",
    "                num_times_all, num_neurons = np.shape(sspikes1)\n",
    "                \n",
    "                movetimes0 = np.arange(0,num_times_all,nn)\n",
    "                movetimes0 = movetimes0[np.where((speed1[movetimes0]>sp))[0]]\n",
    "                spksum = np.sum(sspikes1,1)[movetimes0]\n",
    "                movetimes0 = movetimes0[np.where(spksum> np.percentile(spksum,pthr))[0]]\n",
    "                sspikes1 = sspikes1[movetimes0, :]\n",
    "\n",
    "                ##########    Dimension reduce ##########            \n",
    "                dim_red_spikes_move_scaled = preprocessing.scale(sspikes1,axis = 0)\n",
    "                dim_red_spikes_move_scaled, e1, e2, var_exp = pca(dim_red_spikes_move_scaled, dim = dim)\n",
    "                dim_red_spikes_move_scaled /= np.sqrt(e2[:dim])\n",
    "\n",
    "                fig, ax = plt.subplots(1,1)\n",
    "                ax.plot(var_exp[:15])\n",
    "                ax.set_aspect(1/ax.get_data_ratio())\n",
    "                plt.show()\n",
    "\n",
    "                ##########    Downsample ##########            \n",
    "                startindex = np.argmax(np.sum(np.abs(dim_red_spikes_move_scaled),1))\n",
    "                movetimes1 = radial_downsampling(dim_red_spikes_move_scaled, epsilon = eps, \n",
    "                    startindex = startindex)\n",
    "                indstemp  = sample_denoising(dim_red_spikes_move_scaled[movetimes1,:],  k, \n",
    "                                                   n_points, 1, 'cosine')[0]\n",
    "                indstemp = movetimes1[indstemp]\n",
    "                dim_red_spikes_move_scaled = dim_red_spikes_move_scaled[indstemp,:]\n",
    "                for n_points in [2100,]:\n",
    "                        \n",
    "                    print('sigma', sigma)\n",
    "                    print('n_points', n_points)\n",
    "                    print('eps', eps)\n",
    "                    print('nn', nn)\n",
    "                    print('sp', sp)\n",
    "                    indstemp = indstemp[:n_points]\n",
    "                    dim_red_spikes_move_scaled = dim_red_spikes_move_scaled[:n_points,:]\n",
    "\n",
    "                    X = squareform(pdist(dim_red_spikes_move_scaled[:,:], metric))\n",
    "\n",
    "                    ##########    Compute cohomology ##########            \n",
    "                    persistence, dgms = compute_persistence(X, maxdim)\n",
    "                    plt.figure()\n",
    "                    plot_diagrams(dgms, list(np.arange(maxdim+1)), lifetime = True)\n",
    "                    plt.show()\n",
    "                    fig = plot_barcode(dgms)\n",
    "\n",
    "                    ##########    Get coordinates sample ##########            \n",
    "                    print('movetimes1', len(movetimes1))\n",
    "                    npoints = len(indstemp)\n",
    "                    try:\n",
    "                        coords_ds, coords_ds_consistent = get_coords_consistent(persistence, coeff = 47, ph_classes = [0,1,2], bConsistent = True)\n",
    "                    except:\n",
    "                        print('except')\n",
    "                        print('')\n",
    "                        continue\n",
    "                    fig, ax = plt.subplots(2,4, figsize = (10,5), dpi = 120)\n",
    "                    for i in range(3):\n",
    "                        ax[0, i].plot(coords_ds[i,np.argsort(coords_ds[i,:])])\n",
    "                    ax[0, 3].scatter(*coords_ds[:2,:], s = 100)\n",
    "                    for i in range(4):\n",
    "                        ax[0, i].set_aspect(1/ax[0, i].get_data_ratio())\n",
    "\n",
    "                    for i in range(3):\n",
    "                        ax[1, i].plot(coords_ds_consistent[i,np.argsort(coords_ds_consistent[i,:])])\n",
    "                    ax[1, 3].scatter(*coords_ds_consistent[:2,:], s = 100)\n",
    "                    for i in range(4):\n",
    "                        ax[1, i].set_aspect(1/ax[1, i].get_data_ratio())\n",
    "\n",
    "\n",
    "                    ##########    Get coordinates all   ##########            \n",
    "                    coords_mod0 = get_coords_all(sspikes1, \n",
    "                                                 coords_ds_consistent,\n",
    "                                                 np.arange(len(sspikes1)),                             \n",
    "                                                 indstemp,\n",
    "                                                 dim = dim, \n",
    "                                                 bPCA = True,\n",
    "                                                 bPred = False)\n",
    "                    coords_mod0 = coords_mod0%(2*np.pi)\n",
    "                    fig, axs = plt.subplots(2,3, figsize = (10,5), dpi = 120)\n",
    "                    for c in [0,1,2]:\n",
    "                        coords_mod0tmp = 2*np.pi-coords_mod0[:,c]                        \n",
    "                        dstmp = np.arctan2(np.mean(np.sin(hd_of1[movetimes0]-coords_mod0tmp)), \n",
    "                                        np.mean(np.cos(hd_of1[movetimes0]-coords_mod0tmp)))\n",
    "                        coords_mod0tmp = (coords_mod0tmp+dstmp)%(2*np.pi)\n",
    "\n",
    "\n",
    "                        ds = np.arctan2(np.mean(np.sin(hd_of1[movetimes0]-coords_mod0[:,c])), \n",
    "                                        np.mean(np.cos(hd_of1[movetimes0]-coords_mod0[:,c])))\n",
    "                        coords_mod0[:,c] = (coords_mod0[:,c]+ds)%(2*np.pi)\n",
    "\n",
    "                        ds0 = np.mean(np.abs(np.arctan2(np.sin(hd_of1[movetimes0]-coords_mod0tmp), \n",
    "                                              np.cos(hd_of1[movetimes0]-coords_mod0tmp))))\n",
    "                        ds1 = np.mean(np.abs(np.arctan2(np.sin(hd_of1[movetimes0]-coords_mod0[:,c]), \n",
    "                                              np.cos(hd_of1[movetimes0]-coords_mod0[:,c]))))\n",
    "\n",
    "                        if ds0 < ds1:\n",
    "                            coords_mod0[:,c] = coords_mod0tmp\n",
    "                            print(ds0)\n",
    "                        else:\n",
    "                            print(ds1)                               \n",
    "\n",
    "                        print()\n",
    "                        axs[0,c].plot((coords_mod0[:1000,c]))\n",
    "                        #plt.plot(hd_of1[movetimes0][:10000])\n",
    "                        axs[0,c].plot(hd_of1[movetimes0][:1000])\n",
    "                        nans0 = ~np.isnan(coords_mod0[:,c])\n",
    "                        mtot, __, __, circ  = binned_statistic_2d(xx1[movetimes0],\n",
    "                                                                  yy1[movetimes0],\n",
    "                                                                  coords_mod0[:,c], \n",
    "                                                                  statistic = circmean, \n",
    "                                                                  bins = 50,\n",
    "                                                                  expand_binnumbers = True)\n",
    "\n",
    "                        nans = np.isnan(mtot)\n",
    "                        sintot = np.sin(mtot)\n",
    "                        costot = np.cos(mtot)\n",
    "                        sintot[nans] = np.mean(sintot[~nans])\n",
    "                        costot[nans] = np.mean(costot[~nans])\n",
    "                        sintot = gaussian_filter(sintot,1)\n",
    "                        costot = gaussian_filter(costot,1)\n",
    "                        mtot = np.cos(np.arctan2(sintot, costot))\n",
    "                        mtot = gaussian_filter(mtot,1)\n",
    "                        plt.viridis()\n",
    "                        mtot[nans] = np.nan\n",
    "                        axs[1,c].imshow(mtot)\n",
    "                        axs[1,c].axis('off')\n",
    "                        axs[1,c].set_aspect(1/axs[1,c].get_data_ratio())\n",
    "\n",
    "                    plt.show()\n"
   ]
  },
  {
   "cell_type": "code",
   "execution_count": null,
   "id": "34d28566",
   "metadata": {},
   "outputs": [],
   "source": [
    "\n",
    "##########    Get coordinates all   ##########            \n",
    "coords_mod1 = get_coords_all(np.sqrt(sspikes_of[:, ind1==np.argmax(np.bincount(ind1))]),\n",
    "                             coords_ds_consistent,\n",
    "                             movetimes0,                             \n",
    "                             indstemp,\n",
    "                             dim = dim, \n",
    "                             bPCA = True,\n",
    "                             bPred = False)\n",
    "coords_mod1 = coords_mod1%(2*np.pi)"
   ]
  },
  {
   "cell_type": "code",
   "execution_count": null,
   "id": "f5517233",
   "metadata": {},
   "outputs": [],
   "source": [
    "inds, inds_label =  get_coord_distribution(coords_mod1, numbins = 50,epsilon = 0.5, metric = 'euclidean', startindex = -1)\n",
    "num_neurons = len(mod_ind1s)\n",
    "meanval_inds = np.zeros((num_neurons, len(inds)))\n",
    "for neurid in range(num_neurons):\n",
    "    for ii, i in enumerate(inds):\n",
    "        meanval_inds[neurid, ii] = np.mean(sspikes_of[inds_label[i],mod_ind1s[neurid]])"
   ]
  },
  {
   "cell_type": "code",
   "execution_count": null,
   "id": "9cff78f9",
   "metadata": {
    "scrolled": true
   },
   "outputs": [],
   "source": [
    "for nn in range(num_neurons):\n",
    "    print(nn)\n",
    "    fig = plt.figure()\n",
    "    ax = fig.add_subplot(111, projection = '3d')\n",
    "    ax.scatter(coords_mod1[inds,0],coords_mod1[inds,1],coords_mod1[inds,2], s = 150, alpha = 0.8,\n",
    "              c = meanval_inds[nn,:])\n",
    "    ax.set_xticks([0, np.pi,2*np.pi], [])\n",
    "    ax.set_yticks([0, np.pi,2*np.pi], [])\n",
    "    ax.set_zticks([0, np.pi,2*np.pi], [])\n",
    "    plt.show()\n",
    "    #ax.axis('off')"
   ]
  },
  {
   "cell_type": "code",
   "execution_count": null,
   "id": "24f74408",
   "metadata": {},
   "outputs": [],
   "source": [
    "from matplotlib import gridspec\n",
    "conj_cells = [17,30,33,34,37,41]\n",
    "numfigs = 3\n",
    "numw = 1\n",
    "num_neurons = len(conj_cells)\n",
    "numh = int(np.ceil(num_neurons/numw))\n",
    "outer1 = gridspec.GridSpec(1, numw)\n",
    "fig = plt.figure(figsize=(np.ceil((numw*numfigs+numw-1)*1.05), np.ceil(numh*1.1)), dpi = 160)\n",
    "nw = 0\n",
    "numbins1 = 30\n",
    "#torsort = np.flip(np.argsort(hd_info))\n",
    "for nn, n in enumerate(conj_cells):\n",
    "    nnn = nn%numh\n",
    "\n",
    "    if nnn == 0:\n",
    "        outer2 = gridspec.GridSpecFromSubplotSpec(1, 1, subplot_spec = outer1[nw], wspace = .4)\n",
    "        gs2 = gridspec.GridSpecFromSubplotSpec(numh, numfigs, subplot_spec = outer2[0], \n",
    "                                               width_ratios = [1,1,1],\n",
    "                                               hspace = 0.2,wspace = .2)\n",
    "        nw += 1\n",
    "    xnum = 0\n",
    "\n",
    "    ax = plt.subplot(gs2[nnn,xnum]) \n",
    "    xnum += 1\n",
    "    mtot, __, __, circ  = binned_statistic_2d(xx1,\n",
    "                                          yy1,\n",
    "                                          sspikes_of[:,mod_ind1s[n]], \n",
    "                                          statistic = 'mean', \n",
    "                                          bins = 30,\n",
    "                                          expand_binnumbers = True)\n",
    "\n",
    "    nans = np.isnan(mtot)\n",
    "    mtot[nans] = np.mean(mtot[~nans])\n",
    "    mtot = gaussian_filter(mtot, 1)\n",
    "    plt.viridis()\n",
    "    vals = np.unique(mtot)\n",
    "    maxtot = np.sort(mtot.flatten())\n",
    "    mintot = maxtot[int(0.025*len(maxtot))]\n",
    "    maxtot = maxtot[int(0.975*len(maxtot))]\n",
    "    mtot[nans] = np.nan\n",
    "    \n",
    "    ax.imshow(mtot, origin = 'lower', extent = [0,2*np.pi,0, 2*np.pi], vmin = mintot, vmax = maxtot)\n",
    "    ax.set_xticks([])\n",
    "    ax.set_yticks([])\n",
    "\n",
    "    ax = plt.subplot(gs2[nnn,xnum], projection = 'polar')\n",
    "    \n",
    "    xnum += 1    \n",
    "    bins = np.linspace(0,2*np.pi,31)\n",
    "\n",
    "#    rec = binned_statistic(coords_mod1[:,0], sspikes_of[:,mod_ind1s[n]], statistic = 'mean', bins=bins, range=None)[0]\n",
    "#    rec[np.isnan(rec)] = 0\n",
    "#    rec /= np.max(rec)\n",
    "#    rec = gaussian_filter1d(rec, mode = 'wrap', sigma = 1)\n",
    "    \n",
    "    dec = binned_statistic(hd_of1[:], sspikes_of[:,mod_ind1s[n]], statistic = 'mean', bins=bins, range=None)[0]\n",
    "    dec[np.isnan(dec)] = 0\n",
    "    dec /= np.max(dec)\n",
    "    dec = gaussian_filter1d(dec, mode = 'wrap', sigma = 1)\n",
    "    ax.plot(bins, np.concatenate(([dec[-1]], dec)), \n",
    "            lw = 4, ls = '-', alpha = 0.9, c = [0.2,0.2,0.2], label = 'Dec OF')\n",
    "\n",
    "    ax.set_rticks([0.33, 0.66,1]) \n",
    "    ax.set_yticklabels('')\n",
    "    ax.set_xticklabels('')\n",
    "    ax.set_rlim([0,1.1])\n",
    "    \n",
    "\n",
    "    ax = plt.subplot(gs2[nnn,xnum], projection = '3d')\n",
    "    xnum += 1\n",
    "    ax.scatter(coords_mod1[inds,0],coords_mod1[inds,1],coords_mod1[inds,2], s = 10, alpha = 0.8,\n",
    "              c = meanval_inds[n,:])\n",
    "    ax.set_xticks([0, np.pi,2*np.pi], [])\n",
    "    ax.set_yticks([0, np.pi,2*np.pi], [])\n",
    "    ax.set_zticks([0, np.pi,2*np.pi], [])\n",
    "#    ax.set_aspect('equal')\n"
   ]
  },
  {
   "cell_type": "code",
   "execution_count": null,
   "id": "416d50b8",
   "metadata": {
    "scrolled": false
   },
   "outputs": [],
   "source": [
    "\n",
    "from matplotlib import gridspec\n",
    "numfigs = 3\n",
    "numw = 1\n",
    "num_neurons = len(conj_cells)\n",
    "numh = int(np.ceil(num_neurons/numw))\n",
    "outer1 = gridspec.GridSpec(1, numw)\n",
    "fig = plt.figure(figsize=(np.ceil((numw*numfigs+numw-1)*1.05), np.ceil(numh*1.1)), dpi = 160)\n",
    "nw = 0\n",
    "numbins1 = 30\n",
    "#torsort = np.flip(np.argsort(hd_info))\n",
    "for nn, n in enumerate(conj_cells):\n",
    "    nnn = nn%numh\n",
    "\n",
    "    if nnn == 0:\n",
    "        outer2 = gridspec.GridSpecFromSubplotSpec(1, 1, subplot_spec = outer1[nw], wspace = .4)\n",
    "        gs2 = gridspec.GridSpecFromSubplotSpec(numh, numfigs, subplot_spec = outer2[0], \n",
    "                                               width_ratios = [1,1,1],\n",
    "                                               hspace = 0.,wspace = 0.)\n",
    "        nw += 1\n",
    "    xnum = 0\n",
    "\n",
    "\n",
    "    ax = plt.subplot(gs2[nnn,xnum], projection = '3d')\n",
    "    xnum += 1\n",
    "    ax.scatter(coords_mod1[inds,0],coords_mod1[inds,1],coords_mod1[inds,2], s = 10, alpha = 0.8,\n",
    "              c = meanval_inds[n,:])\n",
    "    ax.set_xticks([0, np.pi,2*np.pi], [])\n",
    "    ax.set_yticks([0, np.pi,2*np.pi], [])\n",
    "    ax.set_zticks([0, np.pi,2*np.pi], [])\n",
    "#    ax.set_aspect('equal')\n"
   ]
  }
 ],
 "metadata": {
  "kernelspec": {
   "display_name": "Python 3 (ipykernel)",
   "language": "python",
   "name": "python3"
  },
  "language_info": {
   "codemirror_mode": {
    "name": "ipython",
    "version": 3
   },
   "file_extension": ".py",
   "mimetype": "text/x-python",
   "name": "python",
   "nbconvert_exporter": "python",
   "pygments_lexer": "ipython3",
   "version": "3.9.12"
  }
 },
 "nbformat": 4,
 "nbformat_minor": 5
}
